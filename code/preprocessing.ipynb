{
 "cells": [
  {
   "cell_type": "markdown",
   "metadata": {
    "id": "kbfepoeOlH2e"
   },
   "source": [
    "## Preprocessing the validation dataset."
   ]
  },
  {
   "cell_type": "markdown",
   "metadata": {
    "id": "GQ-idNLNlNEI"
   },
   "source": [
    "- First step: split the punctation with word in the tokens, and correct grammar and spelling.\n",
    "- Second step: fix the tokens like \"I'm\" to \"I\" and \"'m\".\n",
    "- Final step: add 'is_negative' feature."
   ]
  },
  {
   "cell_type": "markdown",
   "metadata": {
    "id": "Xiq4qGTRlE83"
   },
   "source": [
    "### Import"
   ]
  },
  {
   "cell_type": "code",
   "execution_count": 24,
   "metadata": {
    "colab": {
     "base_uri": "https://localhost:8080/"
    },
    "id": "Yvz2XhTwZOSm",
    "outputId": "cc908c95-4887-43be-83a2-a7090ae7d3d7"
   },
   "outputs": [
    {
     "name": "stdout",
     "output_type": "stream",
     "text": [
      "Requirement already satisfied: pyspellchecker in /Users/mrinalgrover/.local/lib/python3.9/site-packages (0.6.3)\n",
      "Requirement already satisfied: autocorrect in /Users/mrinalgrover/.local/lib/python3.9/site-packages (2.6.1)\n"
     ]
    },
    {
     "name": "stderr",
     "output_type": "stream",
     "text": [
      "[nltk_data] Downloading package punkt to\n",
      "[nltk_data]     /Users/mrinalgrover/nltk_data...\n",
      "[nltk_data]   Package punkt is already up-to-date!\n",
      "[nltk_data] Downloading package averaged_perceptron_tagger to\n",
      "[nltk_data]     /Users/mrinalgrover/nltk_data...\n",
      "[nltk_data]   Package averaged_perceptron_tagger is already up-to-\n",
      "[nltk_data]       date!\n"
     ]
    },
    {
     "data": {
      "text/plain": [
       "True"
      ]
     },
     "execution_count": 24,
     "metadata": {},
     "output_type": "execute_result"
    }
   ],
   "source": [
    "import os\n",
    "import pandas as pd\n",
    "import nltk\n",
    "from nltk import word_tokenize, pos_tag, RegexpParser\n",
    "from nltk.tree import Tree\n",
    "import re, string\n",
    "!python3 -m pip install --user pyspellchecker\n",
    "from spellchecker import SpellChecker\n",
    "!pip install autocorrect\n",
    "from autocorrect import Speller\n",
    "nltk.download('punkt')\n",
    "nltk.download('averaged_perceptron_tagger')"
   ]
  },
  {
   "cell_type": "markdown",
   "metadata": {
    "id": "y3FUOPdik585"
   },
   "source": [
    "### Split the punctuations from the word in tokens and grammar correction."
   ]
  },
  {
   "cell_type": "markdown",
   "metadata": {
    "id": "kYN6CAnR2zZE"
   },
   "source": [
    "This step will split the punctuations from the word in each token, create new tokens for the punctuations and assign them the tag 'O'. Meanwhile, it uses a spell correcter to fix the spelling of the words."
   ]
  },
  {
   "cell_type": "code",
   "execution_count": 25,
   "metadata": {
    "id": "7F0-FNSnk4G5"
   },
   "outputs": [],
   "source": [
    "spell = Speller(lang='en')\n",
    "\n",
    "# read validation data file and write to another file.\n",
    "with open('data/ner_tagged.tsv', 'r') as outf, open(\"data/split_punc_val.tsv\", 'w') as inf:\n",
    "    for line in outf:\n",
    "        line = line.strip()\n",
    "        if 'DOCSTART' in line:\n",
    "            inf.write(\"-DOCSTART-\\t-X-\\tO\\t\\n\")\n",
    "            continue\n",
    "        if line == \"\":\n",
    "            inf.write(\"\\t\\t\\t\\n\")\n",
    "            continue\n",
    "        word, x, _, tag = line.split(\"\\t\")\n",
    "        if word.replace(\".\", \"\", 1).isdigit():\n",
    "          # if . appears in a digit.\n",
    "            inf.write(word+\"\\t\"+x+\"\\t\"+_+\"\\t\"+tag+\"\\n\")\n",
    "            continue\n",
    "        parts = []\n",
    "        for match in re.finditer(r'[^.,?!\\s]+|[.,?!]', word):\n",
    "             parts.append(match.group())\n",
    "        for p in parts:\n",
    "            if p in string.punctuation:\n",
    "            # if p is a punctuation.\n",
    "                tag = \"O\"\n",
    "                inf.write(p+\"\\t\"+x+\"\\t\"+_+\"\\t\"+tag+\"\\n\")\n",
    "            else:\n",
    "            # if p is a word, then correct the spell and write to new file.\n",
    "                p = spell(p)\n",
    "                inf.write(p+\"\\t\"+x+\"\\t\"+_+\"\\t\"+tag+\"\\n\")"
   ]
  },
  {
   "cell_type": "markdown",
   "metadata": {
    "id": "yXOxVauqnyZU"
   },
   "source": [
    "### re-tokenize the sentences in the validation data set"
   ]
  },
  {
   "cell_type": "markdown",
   "metadata": {
    "id": "71bgMuRE3aKV"
   },
   "source": [
    "This step will re-tokenizes the validation data set, fix the issues like \"I'm\" to \"i\" and \"'m\"."
   ]
  },
  {
   "cell_type": "code",
   "execution_count": 26,
   "metadata": {
    "id": "lMp9Nfoiepi1"
   },
   "outputs": [],
   "source": [
    "sents = []\n",
    "\n",
    "with open(\"data/split_punc_val.tsv\") as f, open(\"data/validation_set_tokens_fixed.tsv\", 'w') as result:\n",
    "    sent = \"\"\n",
    "    for line in f:\n",
    "        token = []\n",
    "        line = line.strip()\n",
    "        if 'DOCSTART' in line:\n",
    "            result.write(\"-DOCSTART-\\t-X-\\tO\\t\\n\")\n",
    "            continue\n",
    "        if line == \"\":\n",
    "            sents.append(sent.strip())\n",
    "            sent = \"\"\n",
    "            result.write(\"\\t\\t\\t\\n\")\n",
    "            continue\n",
    "    word, x, _, tag = line.split(\"\\t\")\n",
    "    word = word.lower()\n",
    "    sent = sent + \" \" + word\n",
    "\n",
    "    token = word_tokenize(word)\n",
    "    initial = 0\n",
    "    for tok in token:\n",
    "        if tag.startswith(\"O\"):\n",
    "            result.write(tok+\"\\t\"+x+\"\\t\"+_+\"\\t\"+tag+\"\\n\")\n",
    "        elif tag.startswith(\"I-\"):\n",
    "            result.write(tok+\"\\t\"+x+\"\\t\"+_+\"\\t\"+tag+\"\\n\")\n",
    "        elif tag.startswith(\"B\"):\n",
    "            if initial == 0:\n",
    "                result.write(tok+\"\\t\"+x+\"\\t\"+_+\"\\t\"+tag+\"\\n\")\n",
    "                initial += 1\n",
    "            else:\n",
    "                if tag.startswith(\"B-N\"):\n",
    "                    tag = tag.split(\"-\")[2]\n",
    "                    result.write(tok+\"\\t\"+x+\"\\t\"+_+\"\\t\"\"I-N-\"+tag+\"\\n\")\n",
    "        else:\n",
    "            tag = tag.split(\"-\")[1]\n",
    "            result.write(tok+\"\\t\"+x+\"\\t\"+_+\"\\t\"\"I-\"+tag+\"\\n\")\n",
    "\n",
    "    # delete the middle processing file\n",
    "    os.remove(\"data/split_punc_val.tsv\")"
   ]
  },
  {
   "cell_type": "markdown",
   "metadata": {
    "id": "nE4MPnf530_u"
   },
   "source": [
    "It will produce some tokens like '' from 60'', which is used to stand for inches."
   ]
  },
  {
   "cell_type": "code",
   "execution_count": 27,
   "metadata": {
    "colab": {
     "base_uri": "https://localhost:8080/"
    },
    "id": "Fk6VkF3TqBa-",
    "outputId": "c4e3f81b-0b7a-493f-c8e6-4ee16a8abaae"
   },
   "outputs": [
    {
     "data": {
      "text/plain": [
       "['60', \"''\"]"
      ]
     },
     "execution_count": 27,
     "metadata": {},
     "output_type": "execute_result"
    }
   ],
   "source": [
    "word_tokenize('60\"')"
   ]
  },
  {
   "cell_type": "code",
   "execution_count": 28,
   "metadata": {
    "colab": {
     "base_uri": "https://localhost:8080/"
    },
    "id": "5gXKUplwdZKA",
    "outputId": "21663a59-e826-4aae-bef0-0f313bec1c4e"
   },
   "outputs": [
    {
     "data": {
      "text/plain": [
       "166"
      ]
     },
     "execution_count": 28,
     "metadata": {},
     "output_type": "execute_result"
    }
   ],
   "source": [
    "len(sents)"
   ]
  },
  {
   "cell_type": "code",
   "execution_count": 29,
   "metadata": {
    "colab": {
     "base_uri": "https://localhost:8080/"
    },
    "id": "1WtgPhGPf0Kw",
    "outputId": "8b948b50-2b0a-4fe4-d749-20f36af56f98"
   },
   "outputs": [
    {
     "name": "stdout",
     "output_type": "stream",
     "text": [
      "\n"
     ]
    }
   ],
   "source": [
    "print(sents[1])"
   ]
  },
  {
   "cell_type": "markdown",
   "metadata": {
    "id": "am3vepYP6EnV"
   },
   "source": [
    "### Add \"is_negative\" feature."
   ]
  },
  {
   "cell_type": "code",
   "execution_count": 30,
   "metadata": {
    "id": "LdAs-pgS6Dyu"
   },
   "outputs": [],
   "source": [
    "data = pd.read_csv('data/validation_set_tokens_fixed.tsv', sep='\\t')"
   ]
  },
  {
   "cell_type": "code",
   "execution_count": 31,
   "metadata": {
    "id": "3JWbTDya8Vfg"
   },
   "outputs": [],
   "source": [
    "data.rename(columns = {'Unnamed: 3':'Tags','-DOCSTART-':'Tokens','-X-':'X', 'O':'_'}, inplace = True)"
   ]
  },
  {
   "cell_type": "code",
   "execution_count": 32,
   "metadata": {
    "colab": {
     "base_uri": "https://localhost:8080/",
     "height": 424
    },
    "id": "3lpllBHwIkwC",
    "outputId": "02139f9e-6a96-469f-e66b-1ade8fd7e741"
   },
   "outputs": [
    {
     "data": {
      "text/html": [
       "<div>\n",
       "<style scoped>\n",
       "    .dataframe tbody tr th:only-of-type {\n",
       "        vertical-align: middle;\n",
       "    }\n",
       "\n",
       "    .dataframe tbody tr th {\n",
       "        vertical-align: top;\n",
       "    }\n",
       "\n",
       "    .dataframe thead th {\n",
       "        text-align: right;\n",
       "    }\n",
       "</style>\n",
       "<table border=\"1\" class=\"dataframe\">\n",
       "  <thead>\n",
       "    <tr style=\"text-align: right;\">\n",
       "      <th></th>\n",
       "      <th>Tokens</th>\n",
       "      <th>X</th>\n",
       "      <th>_</th>\n",
       "      <th>Tags</th>\n",
       "    </tr>\n",
       "  </thead>\n",
       "  <tbody>\n",
       "    <tr>\n",
       "      <th>0</th>\n",
       "      <td>NaN</td>\n",
       "      <td>NaN</td>\n",
       "      <td>NaN</td>\n",
       "      <td>NaN</td>\n",
       "    </tr>\n",
       "    <tr>\n",
       "      <th>1</th>\n",
       "      <td>NaN</td>\n",
       "      <td>NaN</td>\n",
       "      <td>NaN</td>\n",
       "      <td>NaN</td>\n",
       "    </tr>\n",
       "    <tr>\n",
       "      <th>2</th>\n",
       "      <td>NaN</td>\n",
       "      <td>NaN</td>\n",
       "      <td>NaN</td>\n",
       "      <td>NaN</td>\n",
       "    </tr>\n",
       "    <tr>\n",
       "      <th>3</th>\n",
       "      <td>NaN</td>\n",
       "      <td>NaN</td>\n",
       "      <td>NaN</td>\n",
       "      <td>NaN</td>\n",
       "    </tr>\n",
       "    <tr>\n",
       "      <th>4</th>\n",
       "      <td>NaN</td>\n",
       "      <td>NaN</td>\n",
       "      <td>NaN</td>\n",
       "      <td>NaN</td>\n",
       "    </tr>\n",
       "    <tr>\n",
       "      <th>...</th>\n",
       "      <td>...</td>\n",
       "      <td>...</td>\n",
       "      <td>...</td>\n",
       "      <td>...</td>\n",
       "    </tr>\n",
       "    <tr>\n",
       "      <th>162</th>\n",
       "      <td>NaN</td>\n",
       "      <td>NaN</td>\n",
       "      <td>NaN</td>\n",
       "      <td>NaN</td>\n",
       "    </tr>\n",
       "    <tr>\n",
       "      <th>163</th>\n",
       "      <td>NaN</td>\n",
       "      <td>NaN</td>\n",
       "      <td>NaN</td>\n",
       "      <td>NaN</td>\n",
       "    </tr>\n",
       "    <tr>\n",
       "      <th>164</th>\n",
       "      <td>NaN</td>\n",
       "      <td>NaN</td>\n",
       "      <td>NaN</td>\n",
       "      <td>NaN</td>\n",
       "    </tr>\n",
       "    <tr>\n",
       "      <th>165</th>\n",
       "      <td>NaN</td>\n",
       "      <td>NaN</td>\n",
       "      <td>NaN</td>\n",
       "      <td>NaN</td>\n",
       "    </tr>\n",
       "    <tr>\n",
       "      <th>166</th>\n",
       "      <td>set</td>\n",
       "      <td>-X-</td>\n",
       "      <td>_</td>\n",
       "      <td>I-PRODUCT</td>\n",
       "    </tr>\n",
       "  </tbody>\n",
       "</table>\n",
       "<p>167 rows × 4 columns</p>\n",
       "</div>"
      ],
      "text/plain": [
       "    Tokens    X    _       Tags\n",
       "0      NaN  NaN  NaN        NaN\n",
       "1      NaN  NaN  NaN        NaN\n",
       "2      NaN  NaN  NaN        NaN\n",
       "3      NaN  NaN  NaN        NaN\n",
       "4      NaN  NaN  NaN        NaN\n",
       "..     ...  ...  ...        ...\n",
       "162    NaN  NaN  NaN        NaN\n",
       "163    NaN  NaN  NaN        NaN\n",
       "164    NaN  NaN  NaN        NaN\n",
       "165    NaN  NaN  NaN        NaN\n",
       "166    set  -X-    _  I-PRODUCT\n",
       "\n",
       "[167 rows x 4 columns]"
      ]
     },
     "execution_count": 32,
     "metadata": {},
     "output_type": "execute_result"
    }
   ],
   "source": [
    "data"
   ]
  },
  {
   "cell_type": "code",
   "execution_count": 33,
   "metadata": {
    "id": "BjOw0x--8jOR"
   },
   "outputs": [],
   "source": [
    "for i, row in data.reset_index().iterrows():\n",
    "    if type(row.Tokens) == str:\n",
    "        if row.Tokens.startswith(\"un\") and \"-N-\" in row.Tags and row.Tokens != \"undermounted\":\n",
    "            data.at[i,'Tags'] = row.Tags.replace(\"N-\", \"\")\n",
    "    if type(row.Tokens) == str:\n",
    "        if row.Tokens.endswith(\"less\") or row.Tokens.endswith(\"less.\") and row.Tokens not in [\"screw\", \"less\"] and \"-N-\" in row.Tags:\n",
    "            data.at[i,'Tags'] = row.Tags.replace(\"N-\", \"\")"
   ]
  },
  {
   "cell_type": "code",
   "execution_count": 34,
   "metadata": {
    "colab": {
     "base_uri": "https://localhost:8080/",
     "height": 424
    },
    "id": "Q-d6_fRHAdDQ",
    "outputId": "4ca132c2-86df-4f02-ead3-0234ea8c776e"
   },
   "outputs": [
    {
     "data": {
      "text/html": [
       "<div>\n",
       "<style scoped>\n",
       "    .dataframe tbody tr th:only-of-type {\n",
       "        vertical-align: middle;\n",
       "    }\n",
       "\n",
       "    .dataframe tbody tr th {\n",
       "        vertical-align: top;\n",
       "    }\n",
       "\n",
       "    .dataframe thead th {\n",
       "        text-align: right;\n",
       "    }\n",
       "</style>\n",
       "<table border=\"1\" class=\"dataframe\">\n",
       "  <thead>\n",
       "    <tr style=\"text-align: right;\">\n",
       "      <th></th>\n",
       "      <th>Tokens</th>\n",
       "      <th>X</th>\n",
       "      <th>_</th>\n",
       "      <th>Tags</th>\n",
       "    </tr>\n",
       "  </thead>\n",
       "  <tbody>\n",
       "    <tr>\n",
       "      <th>0</th>\n",
       "      <td>NaN</td>\n",
       "      <td>NaN</td>\n",
       "      <td>NaN</td>\n",
       "      <td>NaN</td>\n",
       "    </tr>\n",
       "    <tr>\n",
       "      <th>1</th>\n",
       "      <td>NaN</td>\n",
       "      <td>NaN</td>\n",
       "      <td>NaN</td>\n",
       "      <td>NaN</td>\n",
       "    </tr>\n",
       "    <tr>\n",
       "      <th>2</th>\n",
       "      <td>NaN</td>\n",
       "      <td>NaN</td>\n",
       "      <td>NaN</td>\n",
       "      <td>NaN</td>\n",
       "    </tr>\n",
       "    <tr>\n",
       "      <th>3</th>\n",
       "      <td>NaN</td>\n",
       "      <td>NaN</td>\n",
       "      <td>NaN</td>\n",
       "      <td>NaN</td>\n",
       "    </tr>\n",
       "    <tr>\n",
       "      <th>4</th>\n",
       "      <td>NaN</td>\n",
       "      <td>NaN</td>\n",
       "      <td>NaN</td>\n",
       "      <td>NaN</td>\n",
       "    </tr>\n",
       "    <tr>\n",
       "      <th>...</th>\n",
       "      <td>...</td>\n",
       "      <td>...</td>\n",
       "      <td>...</td>\n",
       "      <td>...</td>\n",
       "    </tr>\n",
       "    <tr>\n",
       "      <th>162</th>\n",
       "      <td>NaN</td>\n",
       "      <td>NaN</td>\n",
       "      <td>NaN</td>\n",
       "      <td>NaN</td>\n",
       "    </tr>\n",
       "    <tr>\n",
       "      <th>163</th>\n",
       "      <td>NaN</td>\n",
       "      <td>NaN</td>\n",
       "      <td>NaN</td>\n",
       "      <td>NaN</td>\n",
       "    </tr>\n",
       "    <tr>\n",
       "      <th>164</th>\n",
       "      <td>NaN</td>\n",
       "      <td>NaN</td>\n",
       "      <td>NaN</td>\n",
       "      <td>NaN</td>\n",
       "    </tr>\n",
       "    <tr>\n",
       "      <th>165</th>\n",
       "      <td>NaN</td>\n",
       "      <td>NaN</td>\n",
       "      <td>NaN</td>\n",
       "      <td>NaN</td>\n",
       "    </tr>\n",
       "    <tr>\n",
       "      <th>166</th>\n",
       "      <td>set</td>\n",
       "      <td>-X-</td>\n",
       "      <td>_</td>\n",
       "      <td>I-PRODUCT</td>\n",
       "    </tr>\n",
       "  </tbody>\n",
       "</table>\n",
       "<p>167 rows × 4 columns</p>\n",
       "</div>"
      ],
      "text/plain": [
       "    Tokens    X    _       Tags\n",
       "0      NaN  NaN  NaN        NaN\n",
       "1      NaN  NaN  NaN        NaN\n",
       "2      NaN  NaN  NaN        NaN\n",
       "3      NaN  NaN  NaN        NaN\n",
       "4      NaN  NaN  NaN        NaN\n",
       "..     ...  ...  ...        ...\n",
       "162    NaN  NaN  NaN        NaN\n",
       "163    NaN  NaN  NaN        NaN\n",
       "164    NaN  NaN  NaN        NaN\n",
       "165    NaN  NaN  NaN        NaN\n",
       "166    set  -X-    _  I-PRODUCT\n",
       "\n",
       "[167 rows x 4 columns]"
      ]
     },
     "execution_count": 34,
     "metadata": {},
     "output_type": "execute_result"
    }
   ],
   "source": [
    "data"
   ]
  },
  {
   "cell_type": "code",
   "execution_count": 12,
   "metadata": {
    "id": "CSSFKg3b-ILg"
   },
   "outputs": [],
   "source": [
    "import numpy as np\n",
    "is_negative = []\n",
    "for i, row in data.reset_index().iterrows():\n",
    "    if type(row.Tokens) == str:\n",
    "        if \"-N-\" in row.Tags:\n",
    "            is_negative.append(True)\n",
    "            data.at[i, \"Tags\"] = row.Tags.replace(\"N-\", \"\")\n",
    "        else:\n",
    "            is_negative.append(False)\n",
    "    else:\n",
    "        is_negative.append(np.NaN)"
   ]
  },
  {
   "cell_type": "code",
   "execution_count": 13,
   "metadata": {
    "colab": {
     "base_uri": "https://localhost:8080/",
     "height": 424
    },
    "id": "0y9-g98iBFGr",
    "outputId": "fa0a4ce4-cd87-4cbf-b306-4e4be3b40aed"
   },
   "outputs": [
    {
     "data": {
      "text/html": [
       "\n",
       "  <div id=\"df-0ae34fb2-27b9-4ac2-99a2-81ad33ea357f\">\n",
       "    <div class=\"colab-df-container\">\n",
       "      <div>\n",
       "<style scoped>\n",
       "    .dataframe tbody tr th:only-of-type {\n",
       "        vertical-align: middle;\n",
       "    }\n",
       "\n",
       "    .dataframe tbody tr th {\n",
       "        vertical-align: top;\n",
       "    }\n",
       "\n",
       "    .dataframe thead th {\n",
       "        text-align: right;\n",
       "    }\n",
       "</style>\n",
       "<table border=\"1\" class=\"dataframe\">\n",
       "  <thead>\n",
       "    <tr style=\"text-align: right;\">\n",
       "      <th></th>\n",
       "      <th>Tokens</th>\n",
       "      <th>X</th>\n",
       "      <th>_</th>\n",
       "      <th>Tags</th>\n",
       "    </tr>\n",
       "  </thead>\n",
       "  <tbody>\n",
       "    <tr>\n",
       "      <th>0</th>\n",
       "      <td>i</td>\n",
       "      <td>-X-</td>\n",
       "      <td>_</td>\n",
       "      <td>O</td>\n",
       "    </tr>\n",
       "    <tr>\n",
       "      <th>1</th>\n",
       "      <td>am</td>\n",
       "      <td>-X-</td>\n",
       "      <td>_</td>\n",
       "      <td>O</td>\n",
       "    </tr>\n",
       "    <tr>\n",
       "      <th>2</th>\n",
       "      <td>looking</td>\n",
       "      <td>-X-</td>\n",
       "      <td>_</td>\n",
       "      <td>O</td>\n",
       "    </tr>\n",
       "    <tr>\n",
       "      <th>3</th>\n",
       "      <td>for</td>\n",
       "      <td>-X-</td>\n",
       "      <td>_</td>\n",
       "      <td>O</td>\n",
       "    </tr>\n",
       "    <tr>\n",
       "      <th>4</th>\n",
       "      <td>a</td>\n",
       "      <td>-X-</td>\n",
       "      <td>_</td>\n",
       "      <td>O</td>\n",
       "    </tr>\n",
       "    <tr>\n",
       "      <th>...</th>\n",
       "      <td>...</td>\n",
       "      <td>...</td>\n",
       "      <td>...</td>\n",
       "      <td>...</td>\n",
       "    </tr>\n",
       "    <tr>\n",
       "      <th>2763</th>\n",
       "      <td>30</td>\n",
       "      <td>-X-</td>\n",
       "      <td>_</td>\n",
       "      <td>B-SIZE</td>\n",
       "    </tr>\n",
       "    <tr>\n",
       "      <th>2764</th>\n",
       "      <td>inch</td>\n",
       "      <td>-X-</td>\n",
       "      <td>_</td>\n",
       "      <td>I-SIZE</td>\n",
       "    </tr>\n",
       "    <tr>\n",
       "      <th>2765</th>\n",
       "      <td>white</td>\n",
       "      <td>-X-</td>\n",
       "      <td>_</td>\n",
       "      <td>B-COLOUR</td>\n",
       "    </tr>\n",
       "    <tr>\n",
       "      <th>2766</th>\n",
       "      <td>desk</td>\n",
       "      <td>-X-</td>\n",
       "      <td>_</td>\n",
       "      <td>B-PRODUCT</td>\n",
       "    </tr>\n",
       "    <tr>\n",
       "      <th>2767</th>\n",
       "      <td>set</td>\n",
       "      <td>-X-</td>\n",
       "      <td>_</td>\n",
       "      <td>I-PRODUCT</td>\n",
       "    </tr>\n",
       "  </tbody>\n",
       "</table>\n",
       "<p>2768 rows × 4 columns</p>\n",
       "</div>\n",
       "      <button class=\"colab-df-convert\" onclick=\"convertToInteractive('df-0ae34fb2-27b9-4ac2-99a2-81ad33ea357f')\"\n",
       "              title=\"Convert this dataframe to an interactive table.\"\n",
       "              style=\"display:none;\">\n",
       "        \n",
       "  <svg xmlns=\"http://www.w3.org/2000/svg\" height=\"24px\"viewBox=\"0 0 24 24\"\n",
       "       width=\"24px\">\n",
       "    <path d=\"M0 0h24v24H0V0z\" fill=\"none\"/>\n",
       "    <path d=\"M18.56 5.44l.94 2.06.94-2.06 2.06-.94-2.06-.94-.94-2.06-.94 2.06-2.06.94zm-11 1L8.5 8.5l.94-2.06 2.06-.94-2.06-.94L8.5 2.5l-.94 2.06-2.06.94zm10 10l.94 2.06.94-2.06 2.06-.94-2.06-.94-.94-2.06-.94 2.06-2.06.94z\"/><path d=\"M17.41 7.96l-1.37-1.37c-.4-.4-.92-.59-1.43-.59-.52 0-1.04.2-1.43.59L10.3 9.45l-7.72 7.72c-.78.78-.78 2.05 0 2.83L4 21.41c.39.39.9.59 1.41.59.51 0 1.02-.2 1.41-.59l7.78-7.78 2.81-2.81c.8-.78.8-2.07 0-2.86zM5.41 20L4 18.59l7.72-7.72 1.47 1.35L5.41 20z\"/>\n",
       "  </svg>\n",
       "      </button>\n",
       "      \n",
       "  <style>\n",
       "    .colab-df-container {\n",
       "      display:flex;\n",
       "      flex-wrap:wrap;\n",
       "      gap: 12px;\n",
       "    }\n",
       "\n",
       "    .colab-df-convert {\n",
       "      background-color: #E8F0FE;\n",
       "      border: none;\n",
       "      border-radius: 50%;\n",
       "      cursor: pointer;\n",
       "      display: none;\n",
       "      fill: #1967D2;\n",
       "      height: 32px;\n",
       "      padding: 0 0 0 0;\n",
       "      width: 32px;\n",
       "    }\n",
       "\n",
       "    .colab-df-convert:hover {\n",
       "      background-color: #E2EBFA;\n",
       "      box-shadow: 0px 1px 2px rgba(60, 64, 67, 0.3), 0px 1px 3px 1px rgba(60, 64, 67, 0.15);\n",
       "      fill: #174EA6;\n",
       "    }\n",
       "\n",
       "    [theme=dark] .colab-df-convert {\n",
       "      background-color: #3B4455;\n",
       "      fill: #D2E3FC;\n",
       "    }\n",
       "\n",
       "    [theme=dark] .colab-df-convert:hover {\n",
       "      background-color: #434B5C;\n",
       "      box-shadow: 0px 1px 3px 1px rgba(0, 0, 0, 0.15);\n",
       "      filter: drop-shadow(0px 1px 2px rgba(0, 0, 0, 0.3));\n",
       "      fill: #FFFFFF;\n",
       "    }\n",
       "  </style>\n",
       "\n",
       "      <script>\n",
       "        const buttonEl =\n",
       "          document.querySelector('#df-0ae34fb2-27b9-4ac2-99a2-81ad33ea357f button.colab-df-convert');\n",
       "        buttonEl.style.display =\n",
       "          google.colab.kernel.accessAllowed ? 'block' : 'none';\n",
       "\n",
       "        async function convertToInteractive(key) {\n",
       "          const element = document.querySelector('#df-0ae34fb2-27b9-4ac2-99a2-81ad33ea357f');\n",
       "          const dataTable =\n",
       "            await google.colab.kernel.invokeFunction('convertToInteractive',\n",
       "                                                     [key], {});\n",
       "          if (!dataTable) return;\n",
       "\n",
       "          const docLinkHtml = 'Like what you see? Visit the ' +\n",
       "            '<a target=\"_blank\" href=https://colab.research.google.com/notebooks/data_table.ipynb>data table notebook</a>'\n",
       "            + ' to learn more about interactive tables.';\n",
       "          element.innerHTML = '';\n",
       "          dataTable['output_type'] = 'display_data';\n",
       "          await google.colab.output.renderOutput(dataTable, element);\n",
       "          const docLink = document.createElement('div');\n",
       "          docLink.innerHTML = docLinkHtml;\n",
       "          element.appendChild(docLink);\n",
       "        }\n",
       "      </script>\n",
       "    </div>\n",
       "  </div>\n",
       "  "
      ],
      "text/plain": [
       "       Tokens    X  _       Tags\n",
       "0           i  -X-  _          O\n",
       "1          am  -X-  _          O\n",
       "2     looking  -X-  _          O\n",
       "3         for  -X-  _          O\n",
       "4           a  -X-  _          O\n",
       "...       ...  ... ..        ...\n",
       "2763       30  -X-  _     B-SIZE\n",
       "2764     inch  -X-  _     I-SIZE\n",
       "2765    white  -X-  _   B-COLOUR\n",
       "2766     desk  -X-  _  B-PRODUCT\n",
       "2767      set  -X-  _  I-PRODUCT\n",
       "\n",
       "[2768 rows x 4 columns]"
      ]
     },
     "execution_count": 13,
     "metadata": {},
     "output_type": "execute_result"
    }
   ],
   "source": [
    "data"
   ]
  },
  {
   "cell_type": "code",
   "execution_count": 14,
   "metadata": {
    "colab": {
     "base_uri": "https://localhost:8080/"
    },
    "id": "5vi755eW_ajh",
    "outputId": "8715dd14-139a-4d5c-898b-61a2975bf84f"
   },
   "outputs": [
    {
     "data": {
      "text/plain": [
       "2768"
      ]
     },
     "execution_count": 14,
     "metadata": {},
     "output_type": "execute_result"
    }
   ],
   "source": [
    "len(is_negative)"
   ]
  },
  {
   "cell_type": "code",
   "execution_count": 15,
   "metadata": {
    "id": "5zolRJ7b-Pj3"
   },
   "outputs": [],
   "source": [
    "data[\"is_negative\"] = is_negative"
   ]
  },
  {
   "cell_type": "code",
   "execution_count": 23,
   "metadata": {
    "id": "0s20xymp-US2"
   },
   "outputs": [],
   "source": [
    "data.to_csv(\"data/reannotated_val.csv\")"
   ]
  },
  {
   "cell_type": "code",
   "execution_count": null,
   "metadata": {},
   "outputs": [],
   "source": []
  }
 ],
 "metadata": {
  "colab": {
   "name": "Validation_set_preprocessing.ipynb",
   "provenance": []
  },
  "kernelspec": {
   "display_name": "Python 3",
   "language": "python",
   "name": "python3"
  },
  "language_info": {
   "codemirror_mode": {
    "name": "ipython",
    "version": 3
   },
   "file_extension": ".py",
   "mimetype": "text/x-python",
   "name": "python",
   "nbconvert_exporter": "python",
   "pygments_lexer": "ipython3",
   "version": "3.9.5"
  }
 },
 "nbformat": 4,
 "nbformat_minor": 4
}
