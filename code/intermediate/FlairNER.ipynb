{
 "cells": [
  {
   "cell_type": "code",
   "execution_count": 2,
   "id": "a75e4bc9-5684-457b-8845-4fa348ad7548",
   "metadata": {},
   "outputs": [
    {
     "name": "stdout",
     "output_type": "stream",
     "text": [
      "Requirement already satisfied: flair in /Users/mrinalgrover/opt/miniconda3/lib/python3.9/site-packages (0.11.3)\n",
      "Requirement already satisfied: hyperopt>=0.2.7 in /Users/mrinalgrover/opt/miniconda3/lib/python3.9/site-packages (from flair) (0.2.7)\n",
      "Requirement already satisfied: pptree in /Users/mrinalgrover/opt/miniconda3/lib/python3.9/site-packages (from flair) (3.1)\n",
      "Requirement already satisfied: sqlitedict>=1.6.0 in /Users/mrinalgrover/opt/miniconda3/lib/python3.9/site-packages (from flair) (2.0.0)\n",
      "Requirement already satisfied: regex in /Users/mrinalgrover/opt/miniconda3/lib/python3.9/site-packages (from flair) (2021.9.30)\n",
      "Requirement already satisfied: segtok>=1.5.7 in /Users/mrinalgrover/opt/miniconda3/lib/python3.9/site-packages (from flair) (1.5.11)\n",
      "Requirement already satisfied: wikipedia-api in /Users/mrinalgrover/opt/miniconda3/lib/python3.9/site-packages (from flair) (0.5.4)\n",
      "Requirement already satisfied: langdetect in /Users/mrinalgrover/opt/miniconda3/lib/python3.9/site-packages (from flair) (1.0.9)\n",
      "Requirement already satisfied: transformers>=4.0.0 in /Users/mrinalgrover/opt/miniconda3/lib/python3.9/site-packages (from flair) (4.17.0)\n",
      "Requirement already satisfied: conllu>=4.0 in /Users/mrinalgrover/opt/miniconda3/lib/python3.9/site-packages (from flair) (4.4.2)\n",
      "Requirement already satisfied: more-itertools in /Users/mrinalgrover/opt/miniconda3/lib/python3.9/site-packages (from flair) (8.13.0)\n",
      "Requirement already satisfied: mpld3==0.3 in /Users/mrinalgrover/opt/miniconda3/lib/python3.9/site-packages (from flair) (0.3)\n",
      "Requirement already satisfied: scikit-learn>=0.21.3 in /Users/mrinalgrover/opt/miniconda3/lib/python3.9/site-packages (from flair) (1.0.2)\n",
      "Requirement already satisfied: tqdm>=4.26.0 in /Users/mrinalgrover/opt/miniconda3/lib/python3.9/site-packages (from flair) (4.61.2)\n",
      "Requirement already satisfied: gdown==4.4.0 in /Users/mrinalgrover/opt/miniconda3/lib/python3.9/site-packages (from flair) (4.4.0)\n",
      "Requirement already satisfied: tabulate in /Users/mrinalgrover/opt/miniconda3/lib/python3.9/site-packages (from flair) (0.8.9)\n",
      "Requirement already satisfied: matplotlib>=2.2.3 in /Users/mrinalgrover/opt/miniconda3/lib/python3.9/site-packages (from flair) (3.4.3)\n",
      "Requirement already satisfied: sentencepiece==0.1.95 in /Users/mrinalgrover/opt/miniconda3/lib/python3.9/site-packages (from flair) (0.1.95)\n",
      "Requirement already satisfied: torch!=1.8,>=1.5.0 in /Users/mrinalgrover/opt/miniconda3/lib/python3.9/site-packages (from flair) (1.10.2)\n",
      "Requirement already satisfied: konoha<5.0.0,>=4.0.0 in /Users/mrinalgrover/opt/miniconda3/lib/python3.9/site-packages (from flair) (4.6.5)\n",
      "Requirement already satisfied: lxml in /Users/mrinalgrover/opt/miniconda3/lib/python3.9/site-packages (from flair) (4.6.4)\n",
      "Requirement already satisfied: ftfy in /Users/mrinalgrover/opt/miniconda3/lib/python3.9/site-packages (from flair) (6.1.1)\n",
      "Requirement already satisfied: python-dateutil>=2.6.1 in /Users/mrinalgrover/opt/miniconda3/lib/python3.9/site-packages (from flair) (2.8.2)\n",
      "Requirement already satisfied: janome in /Users/mrinalgrover/opt/miniconda3/lib/python3.9/site-packages (from flair) (0.4.2)\n",
      "Requirement already satisfied: gensim>=3.4.0 in /Users/mrinalgrover/opt/miniconda3/lib/python3.9/site-packages (from flair) (4.1.2)\n",
      "Requirement already satisfied: huggingface-hub in /Users/mrinalgrover/opt/miniconda3/lib/python3.9/site-packages (from flair) (0.4.0)\n",
      "Requirement already satisfied: deprecated>=1.2.4 in /Users/mrinalgrover/opt/miniconda3/lib/python3.9/site-packages (from flair) (1.2.13)\n",
      "Requirement already satisfied: bpemb>=0.3.2 in /Users/mrinalgrover/opt/miniconda3/lib/python3.9/site-packages (from flair) (0.3.3)\n",
      "Requirement already satisfied: filelock in /Users/mrinalgrover/opt/miniconda3/lib/python3.9/site-packages (from gdown==4.4.0->flair) (3.6.0)\n",
      "Requirement already satisfied: requests[socks] in /Users/mrinalgrover/opt/miniconda3/lib/python3.9/site-packages (from gdown==4.4.0->flair) (2.25.1)\n",
      "Requirement already satisfied: six in /Users/mrinalgrover/opt/miniconda3/lib/python3.9/site-packages (from gdown==4.4.0->flair) (1.16.0)\n",
      "Requirement already satisfied: beautifulsoup4 in /Users/mrinalgrover/opt/miniconda3/lib/python3.9/site-packages (from gdown==4.4.0->flair) (4.10.0)\n",
      "Requirement already satisfied: numpy in /Users/mrinalgrover/opt/miniconda3/lib/python3.9/site-packages (from bpemb>=0.3.2->flair) (1.21.2)\n",
      "Requirement already satisfied: wrapt<2,>=1.10 in /Users/mrinalgrover/opt/miniconda3/lib/python3.9/site-packages (from deprecated>=1.2.4->flair) (1.12.1)\n",
      "Requirement already satisfied: scipy>=0.18.1 in /Users/mrinalgrover/opt/miniconda3/lib/python3.9/site-packages (from gensim>=3.4.0->flair) (1.7.1)\n",
      "Requirement already satisfied: smart-open>=1.8.1 in /Users/mrinalgrover/opt/miniconda3/lib/python3.9/site-packages (from gensim>=3.4.0->flair) (5.2.1)\n",
      "Requirement already satisfied: cloudpickle in /Users/mrinalgrover/opt/miniconda3/lib/python3.9/site-packages (from hyperopt>=0.2.7->flair) (2.1.0)\n",
      "Requirement already satisfied: future in /Users/mrinalgrover/opt/miniconda3/lib/python3.9/site-packages (from hyperopt>=0.2.7->flair) (0.18.2)\n",
      "Requirement already satisfied: networkx>=2.2 in /Users/mrinalgrover/opt/miniconda3/lib/python3.9/site-packages (from hyperopt>=0.2.7->flair) (2.8.2)\n",
      "Requirement already satisfied: py4j in /Users/mrinalgrover/opt/miniconda3/lib/python3.9/site-packages (from hyperopt>=0.2.7->flair) (0.10.9.5)\n",
      "Requirement already satisfied: importlib-metadata<4.0.0,>=3.7.0 in /Users/mrinalgrover/opt/miniconda3/lib/python3.9/site-packages (from konoha<5.0.0,>=4.0.0->flair) (3.10.1)\n",
      "Requirement already satisfied: overrides<4.0.0,>=3.0.0 in /Users/mrinalgrover/opt/miniconda3/lib/python3.9/site-packages (from konoha<5.0.0,>=4.0.0->flair) (3.1.0)\n",
      "Requirement already satisfied: zipp>=0.5 in /Users/mrinalgrover/opt/miniconda3/lib/python3.9/site-packages (from importlib-metadata<4.0.0,>=3.7.0->konoha<5.0.0,>=4.0.0->flair) (3.5.0)\n",
      "Requirement already satisfied: cycler>=0.10 in /Users/mrinalgrover/opt/miniconda3/lib/python3.9/site-packages (from matplotlib>=2.2.3->flair) (0.11.0)\n",
      "Requirement already satisfied: kiwisolver>=1.0.1 in /Users/mrinalgrover/opt/miniconda3/lib/python3.9/site-packages (from matplotlib>=2.2.3->flair) (1.3.2)\n",
      "Requirement already satisfied: pillow>=6.2.0 in /Users/mrinalgrover/opt/miniconda3/lib/python3.9/site-packages (from matplotlib>=2.2.3->flair) (8.3.2)\n",
      "Requirement already satisfied: pyparsing>=2.2.1 in /Users/mrinalgrover/opt/miniconda3/lib/python3.9/site-packages (from matplotlib>=2.2.3->flair) (2.4.7)\n",
      "Requirement already satisfied: chardet<5,>=3.0.2 in /Users/mrinalgrover/opt/miniconda3/lib/python3.9/site-packages (from requests[socks]->gdown==4.4.0->flair) (4.0.0)\n",
      "Requirement already satisfied: urllib3<1.27,>=1.21.1 in /Users/mrinalgrover/opt/miniconda3/lib/python3.9/site-packages (from requests[socks]->gdown==4.4.0->flair) (1.26.6)\n",
      "Requirement already satisfied: certifi>=2017.4.17 in /Users/mrinalgrover/opt/miniconda3/lib/python3.9/site-packages (from requests[socks]->gdown==4.4.0->flair) (2021.10.8)\n",
      "Requirement already satisfied: idna<3,>=2.5 in /Users/mrinalgrover/opt/miniconda3/lib/python3.9/site-packages (from requests[socks]->gdown==4.4.0->flair) (2.10)\n",
      "Requirement already satisfied: threadpoolctl>=2.0.0 in /Users/mrinalgrover/opt/miniconda3/lib/python3.9/site-packages (from scikit-learn>=0.21.3->flair) (3.0.0)\n",
      "Requirement already satisfied: joblib>=0.11 in /Users/mrinalgrover/opt/miniconda3/lib/python3.9/site-packages (from scikit-learn>=0.21.3->flair) (1.1.0)\n",
      "Requirement already satisfied: typing-extensions in /Users/mrinalgrover/opt/miniconda3/lib/python3.9/site-packages (from torch!=1.8,>=1.5.0->flair) (4.0.1)\n",
      "Requirement already satisfied: packaging>=20.0 in /Users/mrinalgrover/opt/miniconda3/lib/python3.9/site-packages (from transformers>=4.0.0->flair) (21.3)\n",
      "Requirement already satisfied: tokenizers!=0.11.3,>=0.11.1 in /Users/mrinalgrover/opt/miniconda3/lib/python3.9/site-packages (from transformers>=4.0.0->flair) (0.11.6)\n",
      "Requirement already satisfied: pyyaml>=5.1 in /Users/mrinalgrover/opt/miniconda3/lib/python3.9/site-packages (from transformers>=4.0.0->flair) (5.4.1)\n",
      "Requirement already satisfied: sacremoses in /Users/mrinalgrover/opt/miniconda3/lib/python3.9/site-packages (from transformers>=4.0.0->flair) (0.0.47)\n",
      "Requirement already satisfied: soupsieve>1.2 in /Users/mrinalgrover/opt/miniconda3/lib/python3.9/site-packages (from beautifulsoup4->gdown==4.4.0->flair) (2.3.1)\n",
      "Requirement already satisfied: wcwidth>=0.2.5 in /Users/mrinalgrover/opt/miniconda3/lib/python3.9/site-packages (from ftfy->flair) (0.2.5)\n",
      "Requirement already satisfied: PySocks!=1.5.7,>=1.5.6 in /Users/mrinalgrover/opt/miniconda3/lib/python3.9/site-packages (from requests[socks]->gdown==4.4.0->flair) (1.7.1)\n",
      "Requirement already satisfied: click in /Users/mrinalgrover/opt/miniconda3/lib/python3.9/site-packages (from sacremoses->transformers>=4.0.0->flair) (8.0.1)\n"
     ]
    }
   ],
   "source": [
    "!pip install --user flair"
   ]
  },
  {
   "cell_type": "code",
   "execution_count": 1,
   "id": "7496dc86-8a3f-4f2a-bf67-1bffcc733c00",
   "metadata": {},
   "outputs": [
    {
     "ename": "ModuleNotFoundError",
     "evalue": "No module named 'flair'",
     "output_type": "error",
     "traceback": [
      "\u001b[0;31m---------------------------------------------------------------------------\u001b[0m",
      "\u001b[0;31mModuleNotFoundError\u001b[0m                       Traceback (most recent call last)",
      "\u001b[0;32m/var/folders/9s/n5rk22996xb6yf17c2qx5_g40000gn/T/ipykernel_6026/1007231116.py\u001b[0m in \u001b[0;36m<module>\u001b[0;34m\u001b[0m\n\u001b[0;32m----> 1\u001b[0;31m \u001b[0;32mfrom\u001b[0m \u001b[0mflair\u001b[0m\u001b[0;34m.\u001b[0m\u001b[0mdata\u001b[0m \u001b[0;32mimport\u001b[0m \u001b[0mSentence\u001b[0m\u001b[0;34m\u001b[0m\u001b[0;34m\u001b[0m\u001b[0m\n\u001b[0m\u001b[1;32m      2\u001b[0m \u001b[0;32mfrom\u001b[0m \u001b[0mflair\u001b[0m\u001b[0;34m.\u001b[0m\u001b[0mmodels\u001b[0m \u001b[0;32mimport\u001b[0m \u001b[0mSequenceTagger\u001b[0m\u001b[0;34m\u001b[0m\u001b[0;34m\u001b[0m\u001b[0m\n\u001b[1;32m      3\u001b[0m \u001b[0;34m\u001b[0m\u001b[0m\n\u001b[1;32m      4\u001b[0m \u001b[0;31m# load tagger\u001b[0m\u001b[0;34m\u001b[0m\u001b[0;34m\u001b[0m\u001b[0m\n\u001b[1;32m      5\u001b[0m \u001b[0mtagger\u001b[0m \u001b[0;34m=\u001b[0m \u001b[0mSequenceTagger\u001b[0m\u001b[0;34m.\u001b[0m\u001b[0mload\u001b[0m\u001b[0;34m(\u001b[0m\u001b[0;34m\"flair/ner-english-ontonotes-large\"\u001b[0m\u001b[0;34m)\u001b[0m\u001b[0;34m\u001b[0m\u001b[0;34m\u001b[0m\u001b[0m\n",
      "\u001b[0;31mModuleNotFoundError\u001b[0m: No module named 'flair'"
     ]
    }
   ],
   "source": [
    "from flair.data import Sentence\n",
    "from flair.models import SequenceTagger\n",
    "\n",
    "# load tagger\n",
    "tagger = SequenceTagger.load(\"flair/ner-english-ontonotes-large\")\n",
    "\n",
    "\n"
   ]
  },
  {
   "cell_type": "code",
   "execution_count": null,
   "id": "1fa7a910-92e9-4c27-a9e9-74e2747b97c1",
   "metadata": {},
   "outputs": [],
   "source": []
  }
 ],
 "metadata": {
  "kernelspec": {
   "display_name": "571",
   "language": "python",
   "name": "571"
  },
  "language_info": {
   "codemirror_mode": {
    "name": "ipython",
    "version": 3
   },
   "file_extension": ".py",
   "mimetype": "text/x-python",
   "name": "python",
   "nbconvert_exporter": "python",
   "pygments_lexer": "ipython3",
   "version": "3.9.7"
  }
 },
 "nbformat": 4,
 "nbformat_minor": 5
}
