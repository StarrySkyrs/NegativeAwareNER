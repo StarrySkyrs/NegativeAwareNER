{
  "nbformat": 4,
  "nbformat_minor": 0,
  "metadata": {
    "colab": {
      "name": "val_clean.ipynb",
      "provenance": [],
      "collapsed_sections": []
    },
    "kernelspec": {
      "name": "python3",
      "display_name": "Python 3"
    },
    "language_info": {
      "name": "python"
    }
  },
  "cells": [
    {
      "cell_type": "code",
      "source": [
        "# Import\n",
        "\n",
        "#!pip install autocorrect\n",
        "from autocorrect import Speller\n",
        "import pandas as pd\n",
        "import re, string"
      ],
      "metadata": {
        "id": "mhW0Kf3IM5OW"
      },
      "execution_count": 1,
      "outputs": []
    },
    {
      "cell_type": "code",
      "source": [
        "# test atuocorrect.\n",
        "spell = Speller(lang='en')\n",
        "\n",
        "print(spell('caaar'))\n",
        "print(spell('mussage'))\n",
        "print(spell('survice'))\n",
        "print(spell('hte'))\n"
      ],
      "metadata": {
        "colab": {
          "base_uri": "https://localhost:8080/"
        },
        "id": "eeHv82baOSOP",
        "outputId": "9dbfc22a-0bc2-4456-9438-436bf0b6bc8c"
      },
      "execution_count": 2,
      "outputs": [
        {
          "output_type": "stream",
          "name": "stdout",
          "text": [
            "car\n",
            "message\n",
            "service\n",
            "the\n"
          ]
        }
      ]
    },
    {
      "cell_type": "code",
      "source": [
        "# Given val data.\n",
        "file_name = \"/content/ner-tagged-1 - tagged_sentences.tsv\""
      ],
      "metadata": {
        "id": "uhQ6xClIK_q_"
      },
      "execution_count": 29,
      "outputs": []
    },
    {
      "cell_type": "code",
      "source": [
        "# read validation data file and write to another file.\n",
        "with open(file_name, 'r') as outf, open(\"split_punc_val.tsv\", 'w') as inf:\n",
        "  for line in outf:\n",
        "    if 'DOCSTART' in line:\n",
        "      continue\n",
        "    line = line.strip()\n",
        "    if line == \"\":\n",
        "      inf.write(\"\\n\")\n",
        "      continue\n",
        "    word, x, _, tag = line.split(\"\\t\")\n",
        "    if word.replace(\".\", \"\", 1).isdigit():\n",
        "      # if . appears in a digit.\n",
        "      inf.write(word+\"\\t\"+x+\"\\t\"+_+\"\\t\"+tag+\"\\n\")\n",
        "      continue\n",
        "    parts = []\n",
        "    for match in re.finditer(r'[^.,?!\\s]+|[.,?!]', word):\n",
        "      parts.append(match.group())\n",
        "    for p in parts:\n",
        "      if p in string.punctuation:\n",
        "        # if p is a punctuation.\n",
        "        tag = \"O\"\n",
        "        inf.write(p+\"\\t\"+x+\"\\t\"+_+\"\\t\"+tag+\"\\n\")\n",
        "      else:\n",
        "        # if p is a word, then correct the spell and write to new file.\n",
        "        p = spell(p)\n",
        "        inf.write(p+\"\\t\"+x+\"\\t\"+_+\"\\t\"+tag+\"\\n\")"
      ],
      "metadata": {
        "id": "pNRRDarfLH4q"
      },
      "execution_count": 44,
      "outputs": []
    },
    {
      "cell_type": "code",
      "source": [
        ""
      ],
      "metadata": {
        "id": "9Ylxh4_JeBI_"
      },
      "execution_count": null,
      "outputs": []
    }
  ]
}