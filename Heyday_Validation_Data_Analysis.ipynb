{
 "cells": [
  {
   "cell_type": "code",
   "execution_count": 1,
   "id": "013552a7-6734-4fc8-8383-191d496b0981",
   "metadata": {},
   "outputs": [],
   "source": [
    "import pandas as pd\n",
    "data = pd.read_csv('./ner_tagged.tsv', sep='\\t')"
   ]
  },
  {
   "cell_type": "code",
   "execution_count": 2,
   "id": "eb86bdc7-d37f-47e6-a41b-8cedbb59f5b6",
   "metadata": {},
   "outputs": [
    {
     "data": {
      "text/html": [
       "<div>\n",
       "<style scoped>\n",
       "    .dataframe tbody tr th:only-of-type {\n",
       "        vertical-align: middle;\n",
       "    }\n",
       "\n",
       "    .dataframe tbody tr th {\n",
       "        vertical-align: top;\n",
       "    }\n",
       "\n",
       "    .dataframe thead th {\n",
       "        text-align: right;\n",
       "    }\n",
       "</style>\n",
       "<table border=\"1\" class=\"dataframe\">\n",
       "  <thead>\n",
       "    <tr style=\"text-align: right;\">\n",
       "      <th></th>\n",
       "      <th>-DOCSTART-</th>\n",
       "      <th>-X-</th>\n",
       "      <th>O</th>\n",
       "      <th>Unnamed: 3</th>\n",
       "    </tr>\n",
       "  </thead>\n",
       "  <tbody>\n",
       "    <tr>\n",
       "      <th>0</th>\n",
       "      <td>I</td>\n",
       "      <td>-X-</td>\n",
       "      <td>_</td>\n",
       "      <td>O</td>\n",
       "    </tr>\n",
       "    <tr>\n",
       "      <th>1</th>\n",
       "      <td>am</td>\n",
       "      <td>-X-</td>\n",
       "      <td>_</td>\n",
       "      <td>O</td>\n",
       "    </tr>\n",
       "    <tr>\n",
       "      <th>2</th>\n",
       "      <td>looking</td>\n",
       "      <td>-X-</td>\n",
       "      <td>_</td>\n",
       "      <td>O</td>\n",
       "    </tr>\n",
       "    <tr>\n",
       "      <th>3</th>\n",
       "      <td>for</td>\n",
       "      <td>-X-</td>\n",
       "      <td>_</td>\n",
       "      <td>O</td>\n",
       "    </tr>\n",
       "    <tr>\n",
       "      <th>4</th>\n",
       "      <td>a</td>\n",
       "      <td>-X-</td>\n",
       "      <td>_</td>\n",
       "      <td>O</td>\n",
       "    </tr>\n",
       "  </tbody>\n",
       "</table>\n",
       "</div>"
      ],
      "text/plain": [
       "  -DOCSTART-  -X-  O Unnamed: 3\n",
       "0          I  -X-  _          O\n",
       "1         am  -X-  _          O\n",
       "2    looking  -X-  _          O\n",
       "3        for  -X-  _          O\n",
       "4          a  -X-  _          O"
      ]
     },
     "execution_count": 2,
     "metadata": {},
     "output_type": "execute_result"
    }
   ],
   "source": [
    "data.head()"
   ]
  },
  {
   "cell_type": "code",
   "execution_count": 3,
   "id": "50cd3b96-4235-4aac-b573-bda0af076ccc",
   "metadata": {},
   "outputs": [
    {
     "data": {
      "text/plain": [
       "Index(['-DOCSTART-', '-X-', 'O', 'Unnamed: 3'], dtype='object')"
      ]
     },
     "execution_count": 3,
     "metadata": {},
     "output_type": "execute_result"
    }
   ],
   "source": [
    "data.columns"
   ]
  },
  {
   "cell_type": "code",
   "execution_count": 4,
   "id": "aad220f8-ebed-4eaf-b434-0d202f4b045a",
   "metadata": {},
   "outputs": [],
   "source": [
    "data.rename(columns = {'Unnamed: 3':'Tags','-DOCSTART-':'Tokens','-X-':'X'}, inplace = True)"
   ]
  },
  {
   "cell_type": "code",
   "execution_count": 5,
   "id": "f541de77-87c6-4f34-a2af-4f3851022818",
   "metadata": {},
   "outputs": [
    {
     "data": {
      "text/plain": [
       "array(['-X-', nan], dtype=object)"
      ]
     },
     "execution_count": 5,
     "metadata": {},
     "output_type": "execute_result"
    }
   ],
   "source": [
    "data.X.unique()"
   ]
  },
  {
   "cell_type": "code",
   "execution_count": 6,
   "id": "95ab4dff-f6f4-4aac-adc5-1fabaffdc893",
   "metadata": {},
   "outputs": [
    {
     "data": {
      "text/plain": [
       "array(['_', nan], dtype=object)"
      ]
     },
     "execution_count": 6,
     "metadata": {},
     "output_type": "execute_result"
    }
   ],
   "source": [
    "data.O.unique()"
   ]
  },
  {
   "cell_type": "code",
   "execution_count": 7,
   "id": "3325e9b7-d505-4191-a627-3b94103b9686",
   "metadata": {},
   "outputs": [
    {
     "name": "stdout",
     "output_type": "stream",
     "text": [
      "<class 'pandas.core.frame.DataFrame'>\n",
      "RangeIndex: 2516 entries, 0 to 2515\n",
      "Data columns (total 4 columns):\n",
      " #   Column  Non-Null Count  Dtype \n",
      "---  ------  --------------  ----- \n",
      " 0   Tokens  2350 non-null   object\n",
      " 1   X       2350 non-null   object\n",
      " 2   O       2350 non-null   object\n",
      " 3   Tags    2350 non-null   object\n",
      "dtypes: object(4)\n",
      "memory usage: 78.8+ KB\n"
     ]
    }
   ],
   "source": [
    "data.info()"
   ]
  },
  {
   "cell_type": "code",
   "execution_count": 8,
   "id": "05fbfcd7-785a-4ad0-bca0-39aa69d8fabe",
   "metadata": {},
   "outputs": [
    {
     "data": {
      "text/html": [
       "<div>\n",
       "<style scoped>\n",
       "    .dataframe tbody tr th:only-of-type {\n",
       "        vertical-align: middle;\n",
       "    }\n",
       "\n",
       "    .dataframe tbody tr th {\n",
       "        vertical-align: top;\n",
       "    }\n",
       "\n",
       "    .dataframe thead th {\n",
       "        text-align: right;\n",
       "    }\n",
       "</style>\n",
       "<table border=\"1\" class=\"dataframe\">\n",
       "  <thead>\n",
       "    <tr style=\"text-align: right;\">\n",
       "      <th></th>\n",
       "      <th>Tokens</th>\n",
       "      <th>X</th>\n",
       "      <th>O</th>\n",
       "      <th>Tags</th>\n",
       "    </tr>\n",
       "  </thead>\n",
       "  <tbody>\n",
       "    <tr>\n",
       "      <th>count</th>\n",
       "      <td>2350</td>\n",
       "      <td>2350</td>\n",
       "      <td>2350</td>\n",
       "      <td>2350</td>\n",
       "    </tr>\n",
       "    <tr>\n",
       "      <th>unique</th>\n",
       "      <td>812</td>\n",
       "      <td>1</td>\n",
       "      <td>1</td>\n",
       "      <td>28</td>\n",
       "    </tr>\n",
       "    <tr>\n",
       "      <th>top</th>\n",
       "      <td>a</td>\n",
       "      <td>-X-</td>\n",
       "      <td>_</td>\n",
       "      <td>O</td>\n",
       "    </tr>\n",
       "    <tr>\n",
       "      <th>freq</th>\n",
       "      <td>112</td>\n",
       "      <td>2350</td>\n",
       "      <td>2350</td>\n",
       "      <td>1448</td>\n",
       "    </tr>\n",
       "  </tbody>\n",
       "</table>\n",
       "</div>"
      ],
      "text/plain": [
       "       Tokens     X     O  Tags\n",
       "count    2350  2350  2350  2350\n",
       "unique    812     1     1    28\n",
       "top         a   -X-     _     O\n",
       "freq      112  2350  2350  1448"
      ]
     },
     "execution_count": 8,
     "metadata": {},
     "output_type": "execute_result"
    }
   ],
   "source": [
    "data.describe(include = 'all')"
   ]
  },
  {
   "cell_type": "code",
   "execution_count": 9,
   "id": "d2a4ab7e-5337-4ac7-b381-b93ee00b9f41",
   "metadata": {},
   "outputs": [],
   "source": [
    "data = data.drop(columns= ['X','O'])"
   ]
  },
  {
   "cell_type": "code",
   "execution_count": 10,
   "id": "1b5f64ed-f070-423f-997d-be1f4fe77eb6",
   "metadata": {},
   "outputs": [
    {
     "data": {
      "text/html": [
       "<div>\n",
       "<style scoped>\n",
       "    .dataframe tbody tr th:only-of-type {\n",
       "        vertical-align: middle;\n",
       "    }\n",
       "\n",
       "    .dataframe tbody tr th {\n",
       "        vertical-align: top;\n",
       "    }\n",
       "\n",
       "    .dataframe thead th {\n",
       "        text-align: right;\n",
       "    }\n",
       "</style>\n",
       "<table border=\"1\" class=\"dataframe\">\n",
       "  <thead>\n",
       "    <tr style=\"text-align: right;\">\n",
       "      <th></th>\n",
       "      <th>Tokens</th>\n",
       "      <th>Tags</th>\n",
       "    </tr>\n",
       "  </thead>\n",
       "  <tbody>\n",
       "    <tr>\n",
       "      <th>0</th>\n",
       "      <td>I</td>\n",
       "      <td>O</td>\n",
       "    </tr>\n",
       "    <tr>\n",
       "      <th>1</th>\n",
       "      <td>am</td>\n",
       "      <td>O</td>\n",
       "    </tr>\n",
       "    <tr>\n",
       "      <th>2</th>\n",
       "      <td>looking</td>\n",
       "      <td>O</td>\n",
       "    </tr>\n",
       "    <tr>\n",
       "      <th>3</th>\n",
       "      <td>for</td>\n",
       "      <td>O</td>\n",
       "    </tr>\n",
       "    <tr>\n",
       "      <th>4</th>\n",
       "      <td>a</td>\n",
       "      <td>O</td>\n",
       "    </tr>\n",
       "  </tbody>\n",
       "</table>\n",
       "</div>"
      ],
      "text/plain": [
       "    Tokens Tags\n",
       "0        I    O\n",
       "1       am    O\n",
       "2  looking    O\n",
       "3      for    O\n",
       "4        a    O"
      ]
     },
     "execution_count": 10,
     "metadata": {},
     "output_type": "execute_result"
    }
   ],
   "source": [
    "data.head()"
   ]
  },
  {
   "cell_type": "code",
   "execution_count": 11,
   "id": "7628bbae-9eda-48a0-89fe-1187f3a2564c",
   "metadata": {},
   "outputs": [
    {
     "data": {
      "text/plain": [
       "29"
      ]
     },
     "execution_count": 11,
     "metadata": {},
     "output_type": "execute_result"
    }
   ],
   "source": [
    "len(list(data.Tags.unique()))"
   ]
  },
  {
   "cell_type": "code",
   "execution_count": 12,
   "id": "6239300f-48de-45d7-add5-95b5b860ef2a",
   "metadata": {},
   "outputs": [
    {
     "data": {
      "text/plain": [
       "['O',\n",
       " 'B-COLOUR',\n",
       " 'B-TEXTURE',\n",
       " 'B-SIZE',\n",
       " 'I-SIZE',\n",
       " 'B-PRODUCT',\n",
       " 'I-PRODUCT',\n",
       " nan,\n",
       " 'B-N-PRODUCT',\n",
       " 'I-N-PRODUCT',\n",
       " 'B-MATERIAL',\n",
       " 'B-PRICE',\n",
       " 'I-PRICE',\n",
       " 'B-ATTRIBUTE',\n",
       " 'I-ATTRIBUTE',\n",
       " 'B-N-TEXTURE',\n",
       " 'I-MATERIAL',\n",
       " 'I-COLOUR',\n",
       " 'B-N-ATTRIBUTE',\n",
       " 'B-SHAPE',\n",
       " 'I-N-ATTRIBUTE',\n",
       " 'B-N-COLOUR',\n",
       " 'I-N-COLOUR',\n",
       " 'B-N-SHAPE',\n",
       " 'B-N-MATERIAL',\n",
       " 'B-N-SIZE',\n",
       " 'I-N-SIZE',\n",
       " 'B-N-PRICE',\n",
       " 'I-N-PRICE']"
      ]
     },
     "execution_count": 12,
     "metadata": {},
     "output_type": "execute_result"
    }
   ],
   "source": [
    "list(data.Tags.unique())"
   ]
  },
  {
   "cell_type": "code",
   "execution_count": 13,
   "id": "a1b6e08c-ba92-40c8-88d8-83f0249377c1",
   "metadata": {},
   "outputs": [
    {
     "data": {
      "text/plain": [
       "166"
      ]
     },
     "execution_count": 13,
     "metadata": {},
     "output_type": "execute_result"
    }
   ],
   "source": [
    "data['Tags'].isna().sum()"
   ]
  },
  {
   "cell_type": "code",
   "execution_count": 15,
   "id": "4cc68d11-14c7-43a1-b750-0d5bb05181ad",
   "metadata": {},
   "outputs": [
    {
     "data": {
      "text/plain": [
       "O                0.616170\n",
       "B-PRODUCT        0.080426\n",
       "I-PRODUCT        0.055745\n",
       "B-ATTRIBUTE      0.039574\n",
       "B-SIZE           0.036596\n",
       "I-SIZE           0.034043\n",
       "B-N-ATTRIBUTE    0.031489\n",
       "I-ATTRIBUTE      0.023404\n",
       "B-COLOUR         0.016596\n",
       "B-MATERIAL       0.011915\n",
       "I-N-ATTRIBUTE    0.010213\n",
       "B-N-PRODUCT      0.005957\n",
       "B-N-SIZE         0.004255\n",
       "I-COLOUR         0.003830\n",
       "B-SHAPE          0.003830\n",
       "B-TEXTURE        0.003404\n",
       "I-N-SIZE         0.003404\n",
       "B-PRICE          0.002979\n",
       "I-N-PRODUCT      0.002979\n",
       "B-N-COLOUR       0.002553\n",
       "I-MATERIAL       0.002128\n",
       "I-PRICE          0.002128\n",
       "B-N-MATERIAL     0.001702\n",
       "B-N-TEXTURE      0.001702\n",
       "B-N-SHAPE        0.000851\n",
       "I-N-COLOUR       0.000851\n",
       "I-N-PRICE        0.000851\n",
       "B-N-PRICE        0.000426\n",
       "Name: Tags, dtype: float64"
      ]
     },
     "execution_count": 15,
     "metadata": {},
     "output_type": "execute_result"
    }
   ],
   "source": [
    "data[\"Tags\"].value_counts(normalize=True)"
   ]
  },
  {
   "cell_type": "code",
   "execution_count": 16,
   "id": "4ec1c640-ffee-48f3-b607-81a8b1c8ab7e",
   "metadata": {},
   "outputs": [
    {
     "data": {
      "text/plain": [
       "O                1448\n",
       "B-PRODUCT         189\n",
       "I-PRODUCT         131\n",
       "B-ATTRIBUTE        93\n",
       "B-SIZE             86\n",
       "I-SIZE             80\n",
       "B-N-ATTRIBUTE      74\n",
       "I-ATTRIBUTE        55\n",
       "B-COLOUR           39\n",
       "B-MATERIAL         28\n",
       "I-N-ATTRIBUTE      24\n",
       "B-N-PRODUCT        14\n",
       "B-N-SIZE           10\n",
       "I-COLOUR            9\n",
       "B-SHAPE             9\n",
       "B-TEXTURE           8\n",
       "I-N-SIZE            8\n",
       "B-PRICE             7\n",
       "I-N-PRODUCT         7\n",
       "B-N-COLOUR          6\n",
       "I-MATERIAL          5\n",
       "I-PRICE             5\n",
       "B-N-MATERIAL        4\n",
       "B-N-TEXTURE         4\n",
       "B-N-SHAPE           2\n",
       "I-N-COLOUR          2\n",
       "I-N-PRICE           2\n",
       "B-N-PRICE           1\n",
       "Name: Tags, dtype: int64"
      ]
     },
     "execution_count": 16,
     "metadata": {},
     "output_type": "execute_result"
    }
   ],
   "source": [
    "data[\"Tags\"].value_counts()"
   ]
  },
  {
   "cell_type": "code",
   "execution_count": null,
   "id": "b7022a91-4bcb-4ede-b7dd-18d916cfc733",
   "metadata": {},
   "outputs": [],
   "source": []
  }
 ],
 "metadata": {
  "kernelspec": {
   "display_name": "Python 3",
   "language": "python",
   "name": "python3"
  },
  "language_info": {
   "codemirror_mode": {
    "name": "ipython",
    "version": 3
   },
   "file_extension": ".py",
   "mimetype": "text/x-python",
   "name": "python",
   "nbconvert_exporter": "python",
   "pygments_lexer": "ipython3",
   "version": "3.9.5"
  }
 },
 "nbformat": 4,
 "nbformat_minor": 5
}
