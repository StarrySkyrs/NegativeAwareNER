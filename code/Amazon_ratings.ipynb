{
 "cells": [
  {
   "cell_type": "code",
   "execution_count": 29,
   "id": "f9af0581-3597-416e-b8fa-fd9ce1bd5938",
   "metadata": {},
   "outputs": [],
   "source": [
    "import pandas as pd\n",
    "import json\n",
    "from pandas import json_normalize\n",
    "import gzip"
   ]
  },
  {
   "cell_type": "code",
   "execution_count": 30,
   "id": "b74ab85d-2584-46de-863b-b7c708ad473a",
   "metadata": {},
   "outputs": [],
   "source": [
    "import pandas as pd\n",
    "\n",
    "attributes = {}\n",
    "def getDF(path):\n",
    "    i = 0\n",
    "    df = {}\n",
    "    for d in open(path):\n",
    "        json_str = json.loads(d)\n",
    "        if \"style\" not in json_str:\n",
    "            continue\n",
    "        for k,v in json_str[\"style\"].items():\n",
    "            if k not in attributes:\n",
    "                attributes[k] = set()\n",
    "            attributes[k].add(v.strip()) \n",
    "        if 'reviewText' not in json_str:\n",
    "            continue\n",
    "        df[i] = json_str[\"reviewText\"]\n",
    "        i += 1\n",
    "    return pd.DataFrame.from_dict(df, orient='index')\n",
    "\n",
    "df_home = getDF('../data/Home_and_Kitchen_5.json')\n",
    "df_tools = getDF('../data/Tools_and_Home_Improvement_5.json')"
   ]
  },
  {
   "cell_type": "code",
   "execution_count": 14,
   "id": "2c145c63-5b0c-43d9-9014-bd325012c960",
   "metadata": {
    "tags": []
   },
   "outputs": [
    {
     "data": {
      "text/html": [
       "<div>\n",
       "<style scoped>\n",
       "    .dataframe tbody tr th:only-of-type {\n",
       "        vertical-align: middle;\n",
       "    }\n",
       "\n",
       "    .dataframe tbody tr th {\n",
       "        vertical-align: top;\n",
       "    }\n",
       "\n",
       "    .dataframe thead th {\n",
       "        text-align: right;\n",
       "    }\n",
       "</style>\n",
       "<table border=\"1\" class=\"dataframe\">\n",
       "  <thead>\n",
       "    <tr style=\"text-align: right;\">\n",
       "      <th></th>\n",
       "      <th>0</th>\n",
       "    </tr>\n",
       "  </thead>\n",
       "  <tbody>\n",
       "    <tr>\n",
       "      <th>0</th>\n",
       "      <td>So much better than plastic mug types--keeps c...</td>\n",
       "    </tr>\n",
       "    <tr>\n",
       "      <th>1</th>\n",
       "      <td>I like my coffee hot; borderline scorching but...</td>\n",
       "    </tr>\n",
       "    <tr>\n",
       "      <th>2</th>\n",
       "      <td>This mug does only a fair job of keeping coffe...</td>\n",
       "    </tr>\n",
       "    <tr>\n",
       "      <th>3</th>\n",
       "      <td>This cup worked well. It is not entirely leak ...</td>\n",
       "    </tr>\n",
       "    <tr>\n",
       "      <th>4</th>\n",
       "      <td>Have not used it often enough, but does what i...</td>\n",
       "    </tr>\n",
       "    <tr>\n",
       "      <th>...</th>\n",
       "      <td>...</td>\n",
       "    </tr>\n",
       "    <tr>\n",
       "      <th>4259315</th>\n",
       "      <td>I purchased these as decorations for my classr...</td>\n",
       "    </tr>\n",
       "    <tr>\n",
       "      <th>4259316</th>\n",
       "      <td>getting the used tea leaves out of this is ext...</td>\n",
       "    </tr>\n",
       "    <tr>\n",
       "      <th>4259317</th>\n",
       "      <td>Good deal. It took a while to recieve so I kin...</td>\n",
       "    </tr>\n",
       "    <tr>\n",
       "      <th>4259318</th>\n",
       "      <td>Great price and okay quality. I know it's not ...</td>\n",
       "    </tr>\n",
       "    <tr>\n",
       "      <th>4259319</th>\n",
       "      <td>Lightweight and roomy. Perfect for Sunday roasts!</td>\n",
       "    </tr>\n",
       "  </tbody>\n",
       "</table>\n",
       "<p>4259320 rows × 1 columns</p>\n",
       "</div>"
      ],
      "text/plain": [
       "                                                         0\n",
       "0        So much better than plastic mug types--keeps c...\n",
       "1        I like my coffee hot; borderline scorching but...\n",
       "2        This mug does only a fair job of keeping coffe...\n",
       "3        This cup worked well. It is not entirely leak ...\n",
       "4        Have not used it often enough, but does what i...\n",
       "...                                                    ...\n",
       "4259315  I purchased these as decorations for my classr...\n",
       "4259316  getting the used tea leaves out of this is ext...\n",
       "4259317  Good deal. It took a while to recieve so I kin...\n",
       "4259318  Great price and okay quality. I know it's not ...\n",
       "4259319  Lightweight and roomy. Perfect for Sunday roasts!\n",
       "\n",
       "[4259320 rows x 1 columns]"
      ]
     },
     "execution_count": 14,
     "metadata": {},
     "output_type": "execute_result"
    }
   ],
   "source": [
    "df_home"
   ]
  },
  {
   "cell_type": "code",
   "execution_count": 32,
   "id": "14e2848b-e2be-45f4-bcf5-3a68e1e8eb10",
   "metadata": {},
   "outputs": [
    {
     "data": {
      "text/plain": [
       "dict_keys(['Color:', 'Format:', 'Style Name:', 'Size:', 'Material Type:', 'Package Quantity:', 'Size Name:', 'Style:', 'Item Package Quantity:', 'Item Display Length:', 'Length:', 'Package Type:', 'Design:', 'Item Display Weight:', 'Product Packaging:', 'Number of Items:', 'Flavor:', 'Flavor Name:', 'Color Name:', 'Scent Name:', 'Display Height:', 'Pattern:', 'Shape:', 'Scent:', 'Team Name:', 'Outside Diameter:', 'Overall Length:', 'Model Name:', 'Model Number:', 'Item Weight:', 'Material:', 'Configuration:', 'Curvature:', 'style:', 'Edition:', 'Denomination:', 'Colour:', 'Offer Type:', 'Wattage:', 'Overall Width:', 'Part Number:', 'Thickness:', 'Line Weight:', 'Item Shape:', 'Gauge:', 'Hand Orientation:', 'Inside Diameter:', 'Connector Type:', 'Volume:', 'Capacity:', 'Bore Diameter:', 'Model:', 'Grit Type:'])"
      ]
     },
     "execution_count": 32,
     "metadata": {},
     "output_type": "execute_result"
    }
   ],
   "source": [
    "attributes.keys()"
   ]
  },
  {
   "cell_type": "code",
   "execution_count": 16,
   "id": "f937c8ae-618b-4938-83fb-ab96901cc203",
   "metadata": {},
   "outputs": [
    {
     "data": {
      "text/plain": [
       "{'12Cup Grind and Brew',\n",
       " 'Certified Refurbished',\n",
       " \"Cook N' Cold: BTSA1SK\",\n",
       " \"Hot N' Cold: BTSA1SHS\"}"
      ]
     },
     "execution_count": 16,
     "metadata": {},
     "output_type": "execute_result"
    }
   ],
   "source": [
    "attributes[\"Model Name:\"]"
   ]
  },
  {
   "cell_type": "code",
   "execution_count": 17,
   "id": "61668abb-c450-4ad2-832e-53b78c874a2c",
   "metadata": {},
   "outputs": [
    {
     "data": {
      "text/plain": [
       "{'100 Grit',\n",
       " '120 Grit',\n",
       " '180 Grit',\n",
       " '220 Grit',\n",
       " '26 PCS CAKE DECORATING',\n",
       " '320 Grit',\n",
       " '40 Grit',\n",
       " '400 Grit',\n",
       " '60 Grit',\n",
       " '80 Grit',\n",
       " 'AC',\n",
       " 'Acacia Wood',\n",
       " 'Brushed Nickel Finish',\n",
       " 'Carbon Steel',\n",
       " 'Chrome Finish',\n",
       " 'Cordierite',\n",
       " 'Damaskus Steel Knife Red',\n",
       " 'ER4043 Aluminum',\n",
       " 'ER70S-6 Mild Steel',\n",
       " 'Fiberglass',\n",
       " 'Flat - Coarse',\n",
       " 'Flat - Fine',\n",
       " 'Fluorescent',\n",
       " 'Foam',\n",
       " 'Half-Round - Fine',\n",
       " 'Herb Scissors',\n",
       " 'LED',\n",
       " 'Memory Foam',\n",
       " 'New',\n",
       " 'Pink 10 x 10 x 5',\n",
       " 'Plastic dome',\n",
       " 'Polyester Fibre',\n",
       " 'Premium Chef Knife 8\"',\n",
       " 'Quarter Size Sheet Pans with Lids, 9.5\" x 13\"',\n",
       " 'Quarter Size Sheet Pans, 9.5\" x 13\"',\n",
       " 'Regular',\n",
       " 'Stainless Steel',\n",
       " 'Stainless Steel 304',\n",
       " 'Stainless Steel 430',\n",
       " 'Variable Temperature Kettle',\n",
       " 'Warding - Coarse',\n",
       " 'Warding - Fine',\n",
       " 'aluminum',\n",
       " 'foam',\n",
       " 'semi-gloss',\n",
       " 'stud',\n",
       " 'stud1',\n",
       " 'stud13',\n",
       " 'stud14',\n",
       " 'stud15',\n",
       " 'stud16',\n",
       " 'stud17'}"
      ]
     },
     "execution_count": 17,
     "metadata": {},
     "output_type": "execute_result"
    }
   ],
   "source": [
    "attributes[\"Material:\"]"
   ]
  },
  {
   "cell_type": "code",
   "execution_count": 18,
   "id": "22dc11fa-7b4d-4df2-a49a-b9144fdd7ee3",
   "metadata": {},
   "outputs": [
    {
     "data": {
      "text/plain": [
       "{'Accessory',\n",
       " 'Audio CD',\n",
       " 'Baby Product',\n",
       " 'CD-ROM',\n",
       " 'Computer Game',\n",
       " 'DVD',\n",
       " 'Electronics',\n",
       " 'Hardcover',\n",
       " 'Health and Beauty',\n",
       " 'Home',\n",
       " 'Housewares',\n",
       " 'Kitchen',\n",
       " 'MP3 Music',\n",
       " 'Misc.',\n",
       " 'Misc. Supplies',\n",
       " 'Office Product',\n",
       " 'Paperback',\n",
       " 'Software Download',\n",
       " 'Spiral-bound',\n",
       " 'Sports',\n",
       " 'Target',\n",
       " 'Tools & Hardware',\n",
       " 'Tools & Home Improvement',\n",
       " 'Toy',\n",
       " 'Unknown Binding',\n",
       " 'Vinyl',\n",
       " 'Wireless Phone Accessory'}"
      ]
     },
     "execution_count": 18,
     "metadata": {},
     "output_type": "execute_result"
    }
   ],
   "source": [
    "attributes[\"Format:\"]"
   ]
  },
  {
   "cell_type": "code",
   "execution_count": 33,
   "id": "f6144e73-5198-404f-b463-7201863c12df",
   "metadata": {},
   "outputs": [],
   "source": [
    "import csv\n",
    "with open('../data/attributes.csv', 'w', newline='\\n') as csvfile:\n",
    "    for attr, val_set in attributes.items():\n",
    "        for val in val_set:\n",
    "            csvfile.write(val)\n",
    "            csvfile.write('\\n')"
   ]
  },
  {
   "cell_type": "code",
   "execution_count": null,
   "id": "182e0946-1327-40c7-8f38-7ff71f53ad18",
   "metadata": {},
   "outputs": [],
   "source": []
  }
 ],
 "metadata": {
  "kernelspec": {
   "display_name": "Python 3",
   "language": "python",
   "name": "python3"
  },
  "language_info": {
   "codemirror_mode": {
    "name": "ipython",
    "version": 3
   },
   "file_extension": ".py",
   "mimetype": "text/x-python",
   "name": "python",
   "nbconvert_exporter": "python",
   "pygments_lexer": "ipython3",
   "version": "3.9.5"
  }
 },
 "nbformat": 4,
 "nbformat_minor": 5
}
