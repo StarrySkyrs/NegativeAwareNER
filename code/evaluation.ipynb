{
 "cells": [
  {
   "cell_type": "code",
   "execution_count": null,
   "id": "c18d1940-9f34-4d23-bad0-feec22fc11b8",
   "metadata": {},
   "outputs": [],
   "source": [
    "import pandas as pd"
   ]
  },
  {
   "cell_type": "code",
   "execution_count": null,
   "id": "f2848639-6a7a-4861-b482-6b52ce873b51",
   "metadata": {},
   "outputs": [],
   "source": [
    "actual = pd.read_csv('data/spacy_tokenized')"
   ]
  }
 ],
 "metadata": {
  "kernelspec": {
   "display_name": "573",
   "language": "python",
   "name": "573"
  },
  "language_info": {
   "name": ""
  }
 },
 "nbformat": 4,
 "nbformat_minor": 5
}
