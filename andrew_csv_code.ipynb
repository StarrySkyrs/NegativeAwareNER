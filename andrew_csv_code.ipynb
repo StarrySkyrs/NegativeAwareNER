{
 "cells": [
  {
   "cell_type": "code",
   "execution_count": 225,
   "id": "013552a7-6734-4fc8-8383-191d496b0981",
   "metadata": {},
   "outputs": [],
   "source": [
    "import pandas as pd\n",
    "data = pd.read_csv('./ner_tagged.tsv', sep='\\t')"
   ]
  },
  {
   "cell_type": "code",
   "execution_count": 226,
   "id": "aad220f8-ebed-4eaf-b434-0d202f4b045a",
   "metadata": {},
   "outputs": [],
   "source": [
    "data.rename(columns = {'Unnamed: 3':'Tags','-DOCSTART-':'Tokens','-X-':'X'}, inplace = True)"
   ]
  },
  {
   "cell_type": "code",
   "execution_count": 227,
   "id": "6b0e7e76-0723-4466-9bb8-078937693787",
   "metadata": {},
   "outputs": [],
   "source": [
    "for i, row in data.reset_index().iterrows():\n",
    "    if type(row.Tokens) == str:\n",
    "        if row.Tokens.startswith(\"un\") and \"-N-\" in row.Tags and row.Tokens != \"undermounted\":\n",
    "            data.at[i,'Tags'] = row.Tags.replace(\"N-\", \"\")\n",
    "    if type(row.Tokens) == str:\n",
    "        if row.Tokens.endswith(\"less\") or row.Tokens.endswith(\"less.\") and row.Tokens not in [\"screw\", \"less\"] and \"-N-\" in row.Tags:\n",
    "            data.at[i,'Tags'] = row.Tags.replace(\"N-\", \"\")"
   ]
  },
  {
   "cell_type": "code",
   "execution_count": 228,
   "id": "4a2ff45b-b61a-4763-82be-121dded04bc1",
   "metadata": {},
   "outputs": [],
   "source": [
    "import numpy as np\n",
    "is_negative = []\n",
    "for i, row in data.reset_index().iterrows():\n",
    "    if type(row.Tokens) == str:\n",
    "        if \"-N-\" in row.Tags:\n",
    "            is_negative.append(True)\n",
    "            data.at[i, \"Tags\"] = row.Tags.replace(\"N-\", \"\")\n",
    "        else:\n",
    "            is_negative.append(False)\n",
    "    else:\n",
    "        is_negative.append(np.NaN)"
   ]
  },
  {
   "cell_type": "code",
   "execution_count": 229,
   "id": "694343e3-188b-4813-bcdc-5e93967bba59",
   "metadata": {},
   "outputs": [],
   "source": [
    "data[\"is_negative\"] = is_negative"
   ]
  },
  {
   "cell_type": "code",
   "execution_count": 201,
   "id": "24a46e0d-a695-479b-9b29-f4eb541d340f",
   "metadata": {},
   "outputs": [
    {
     "name": "stdout",
     "output_type": "stream",
     "text": [
      "Collecting pandas==1.3.0"
     ]
    },
    {
     "name": "stderr",
     "output_type": "stream",
     "text": [
      "WARNING: Ignoring invalid distribution -orch (c:\\users\\andre\\miniconda3\\lib\\site-packages)\n",
      "WARNING: Ignoring invalid distribution -orch (c:\\users\\andre\\miniconda3\\lib\\site-packages)\n",
      "WARNING: Ignoring invalid distribution -orch (c:\\users\\andre\\miniconda3\\lib\\site-packages)\n",
      "    WARNING: Ignoring invalid distribution -orch (c:\\users\\andre\\miniconda3\\lib\\site-packages)\n",
      "WARNING: Ignoring invalid distribution -orch (c:\\users\\andre\\miniconda3\\lib\\site-packages)\n",
      "ERROR: pip's dependency resolver does not currently take into account all the packages that are installed. This behaviour is the source of the following dependency conflicts."
     ]
    },
    {
     "name": "stdout",
     "output_type": "stream",
     "text": [
      "\n",
      "  Downloading pandas-1.3.0-cp39-cp39-win_amd64.whl (10.2 MB)\n",
      "Requirement already satisfied: numpy>=1.17.3 in c:\\users\\andre\\miniconda3\\lib\\site-packages (from pandas==1.3.0) (1.22.1)\n",
      "Requirement already satisfied: python-dateutil>=2.7.3 in c:\\users\\andre\\miniconda3\\lib\\site-packages (from pandas==1.3.0) (2.8.2)\n",
      "Requirement already satisfied: pytz>=2017.3 in c:\\users\\andre\\miniconda3\\lib\\site-packages (from pandas==1.3.0) (2021.3)\n",
      "Requirement already satisfied: six>=1.5 in c:\\users\\andre\\miniconda3\\lib\\site-packages (from python-dateutil>=2.7.3->pandas==1.3.0) (1.16.0)\n",
      "Installing collected packages: pandas\n",
      "  Attempting uninstall: pandas\n",
      "    Found existing installation: pandas 1.4.2\n",
      "    Uninstalling pandas-1.4.2:\n",
      "      Successfully uninstalled pandas-1.4.2\n",
      "Successfully installed pandas-1.3.0\n"
     ]
    },
    {
     "name": "stderr",
     "output_type": "stream",
     "text": [
      "\n",
      "morphemes 1.0.9 requires pandas>=1.4.1, but you have pandas 1.3.0 which is incompatible.\n",
      "WARNING: Ignoring invalid distribution -orch (c:\\users\\andre\\miniconda3\\lib\\site-packages)\n",
      "WARNING: Ignoring invalid distribution -orch (c:\\users\\andre\\miniconda3\\lib\\site-packages)\n",
      "WARNING: Ignoring invalid distribution -orch (c:\\users\\andre\\miniconda3\\lib\\site-packages)\n"
     ]
    }
   ],
   "source": [
    "!pip install pandas==1.3.0"
   ]
  },
  {
   "cell_type": "code",
   "execution_count": 230,
   "id": "62b9a8ab-b7be-47f9-a104-68e7a6f4db6d",
   "metadata": {},
   "outputs": [],
   "source": [
    "import pandas\n",
    "data.to_csv(\"C:\\\\Users\\\\andre\\\\Downloads\\\\MDS-CL\\\\Capstone\\\\NER\\\\NegativeAwareNER\\\\reannotated_val.csv\")"
   ]
  },
  {
   "cell_type": "code",
   "execution_count": 195,
   "id": "6a5d6844-4a8a-478f-b881-509d6ba3291d",
   "metadata": {
    "tags": []
   },
   "outputs": [],
   "source": [
    "neg_sents = []\n",
    "pos_sents = []\n",
    "current_sent = []\n",
    "current_tags = []\n",
    "contains_neg = False\n",
    "non_neg = 0\n",
    "\n",
    "for i, row in data.reset_index().iterrows():\n",
    "    if type(row.Tags) == str:\n",
    "        current_sent.append((row.Tokens, row.Tags, row.is_negative))\n",
    "        if row.is_negative:\n",
    "            contains_neg = True\n",
    "    else:\n",
    "        if contains_neg:\n",
    "            neg_sents.append(current_sent)\n",
    "        else:\n",
    "            pos_sents.append(current_sent)\n",
    "        current_sent = []\n",
    "        contains_neg = False"
   ]
  },
  {
   "cell_type": "code",
   "execution_count": 196,
   "id": "bd199f54-f087-4461-8626-9714b8297544",
   "metadata": {
    "tags": []
   },
   "outputs": [
    {
     "name": "stdout",
     "output_type": "stream",
     "text": [
      "[('Looking', 'O', False), ('for', 'O', False), ('pre', 'B-PRODUCT', False), ('workout', 'I-PRODUCT', False), ('Pump', 'I-PRODUCT', False), ('addict', 'I-PRODUCT', False), ('instead', 'O', False), ('of', 'O', False), ('Karbolyn', 'B-PRODUCT', True), ('Hydrate', 'I-PRODUCT', True), ('Wich', 'O', False), ('one', 'O', False), ('is', 'O', False), ('better?', 'O', False)]\n",
      "[('Hello,', 'O', False), ('do', 'O', False), ('any', 'O', False), ('of', 'O', False), ('your', 'O', False), ('free', 'B-ATTRIBUTE', False), ('standing', 'I-ATTRIBUTE', False), ('tubs', 'B-PRODUCT', False), ('have', 'O', False), ('a', 'O', False), ('matte', 'B-TEXTURE', False), ('white', 'B-COLOUR', False), ('finish', 'O', False), ('instead', 'O', False), ('of', 'O', False), ('a', 'O', False), ('glossy', 'B-TEXTURE', True), ('finish?', 'O', False)]\n",
      "[('Hi', 'O', False), ('there.', 'O', False), (\"I'm\", 'O', False), ('looking', 'O', False), ('to', 'O', False), ('buy', 'O', False), ('some', 'O', False), ('throw', 'B-PRODUCT', False), ('blankets.', 'I-PRODUCT', False), ('Your', 'O', False), ('website', 'O', False), ('states', 'O', False), ('that', 'O', False), ('the', 'O', False), ('underside', 'O', False), ('of', 'O', False), ('the', 'O', False), ('Boucle', 'B-MATERIAL', False), ('wool-like', 'I-MATERIAL', False), ('throw', 'B-PRODUCT', False), ('is', 'O', False), ('very', 'O', False), ('soft.', 'B-TEXTURE', False), ('I', 'O', False), ('would', 'O', False), ('like', 'O', False), ('to', 'O', False), ('know', 'O', False), ('if', 'O', False), ('the', 'O', False), ('wool-like', 'B-MATERIAL', False), ('top', 'O', False), ('side', 'O', False), ('is', 'O', False), ('soft', 'B-TEXTURE', False), ('as', 'O', False), ('well,', 'O', False), ('or', 'O', False), ('if', 'O', False), ('it', 'O', False), ('is', 'O', False), ('scratchy.', 'B-TEXTURE', True), ('I', 'O', False), ('have', 'O', False), ('hypersensitive', 'O', False), ('skin', 'O', False), ('and', 'O', False), ('need', 'O', False), ('a', 'O', False), ('blanket', 'B-PRODUCT', False), ('that', 'O', False), ('will', 'O', False), ('not', 'O', False), ('irritate', 'O', False), ('me.', 'O', False), ('Thanks.', 'O', False)]\n",
      "[('Hello.', 'O', False), (\"I'm\", 'O', False), ('looking', 'O', False), ('for', 'O', False), ('a', 'O', False), ('soft', 'B-TEXTURE', False), ('Open', 'B-ATTRIBUTE', False), ('face', 'I-ATTRIBUTE', False), ('cardigan', 'B-PRODUCT', False), ('w', 'O', False), ('no', 'O', False), ('buttons.', 'B-ATTRIBUTE', True)]\n",
      "[('hi', 'O', False), ('do', 'O', False), ('you', 'O', False), ('carry', 'O', False), ('any', 'O', False), ('oval', 'B-SHAPE', False), ('tubs', 'B-PRODUCT', False), ('in', 'O', False), ('a', 'O', False), ('matte', 'B-TEXTURE', False), ('white', 'B-COLOUR', False), ('finish', 'O', False), ('or', 'O', False), ('not', 'O', False), ('too', 'O', False), ('much', 'O', False), ('of', 'O', False), ('gloss?', 'B-TEXTURE', True), ('i', 'O', False), ('know', 'O', False), ('they', 'O', False), ('make', 'O', False), ('solid', 'O', False), ('surface', 'O', False), ('but', 'O', False), ('higher', 'B-PRICE', False), ('prices.', 'I-PRICE', False), ('thank', 'O', False), ('you', 'O', False)]\n",
      "[('Do', 'O', False), ('you', 'O', False), ('have', 'O', False), ('a', 'O', False), ('vanity', 'B-PRODUCT', False), ('tops', 'I-PRODUCT', False), ('or', 'O', False), ('wall', 'B-ATTRIBUTE', False), ('mount', 'I-ATTRIBUTE', False), ('sink', 'B-PRODUCT', False), ('without', 'O', False), ('faucet', 'B-ATTRIBUTE', True), ('holes?', 'I-ATTRIBUTE', True)]\n",
      "[('Hi!!', 'O', False), (\"I'm\", 'O', False), ('looking', 'O', False), ('for', 'O', False), ('a', 'O', False), ('60\"', 'B-SIZE', False), ('wide', 'I-SIZE', False), ('tub', 'B-PRODUCT', False), ('but', 'O', False), ('a', 'O', False), ('soaker', 'B-ATTRIBUTE', False), ('type', 'I-ATTRIBUTE', False), ('thats', 'O', False), ('deeper', 'B-ATTRIBUTE', False), ('than', 'O', False), ('a', 'O', False), ('regular', 'B-PRODUCT', True), ('tub', 'I-PRODUCT', True), ('do', 'O', False), ('you', 'O', False), ('have', 'O', False), ('this', 'O', False), ('type?', 'O', False), ('I', 'O', False), (\"don't\", 'O', False), ('see', 'O', False), ('anything', 'O', False), ('deep', 'O', False), ('enough', 'O', False), ('on', 'O', False), ('your', 'O', False), ('site', 'O', False)]\n",
      "[('Ok', 'O', False), ('thanks.', 'O', False), (\"I'm\", 'O', False), ('looking', 'O', False), ('for', 'O', False), ('a', 'O', False), ('pure', 'B-COLOUR', False), ('white', 'I-COLOUR', False), ('alcove', 'B-ATTRIBUTE', False), ('bathtub,', 'B-PRODUCT', False), ('not', 'O', False), ('American', 'B-ATTRIBUTE', False), ('standard', 'I-ATTRIBUTE', False), ('or', 'O', False), ('any', 'O', False), ('off', 'B-COLOUR', True), ('whites.', 'I-COLOUR', True), ('Is', 'O', False), ('there', 'O', False), ('one', 'O', False), ('you', 'O', False), ('could', 'O', False), ('recommend', 'O', False)]\n",
      "[('Hi,', 'O', False), ('Do', 'O', False), ('you', 'O', False), ('have', 'O', False), ('a', 'O', False), ('navy', 'B-COLOUR', False), ('mirror', 'B-PRODUCT', False), ('size', 'O', False), ('60x31.', 'B-SIZE', False), ('You', 'O', False), ('have', 'O', False), ('it', 'O', False), ('for', 'O', False), ('the', 'O', False), ('gold', 'B-COLOUR', True), ('and', 'O', False), ('black', 'B-COLOUR', True), ('but', 'O', False), ('i', 'O', False), (\"don't\", 'O', False), ('want', 'O', False), ('it', 'O', False), ('for', 'O', False), ('the', 'O', False), ('navy.', 'B-COLOUR', False)]\n",
      "[('Hi,', 'O', False), ('I', 'O', False), ('am', 'O', False), ('looking', 'O', False), ('for', 'O', False), ('a', 'O', False), ('floating', 'B-ATTRIBUTE', False), ('vanity', 'B-PRODUCT', False), ('with', 'O', False), ('integrated', 'B-ATTRIBUTE', False), ('sink', 'I-ATTRIBUTE', False), ('&', 'O', False), ('counter', 'B-ATTRIBUTE', False), ('top', 'I-ATTRIBUTE', False), ('with', 'O', False), ('no', 'O', False), ('drill', 'B-ATTRIBUTE', True), ('holes', 'I-ATTRIBUTE', True), ('for', 'O', False), ('the', 'O', False), ('faucet', 'B-ATTRIBUTE', False), ('as', 'O', False), ('our', 'O', False), ('faucets', 'B-ATTRIBUTE', False), ('are', 'O', False), ('wall', 'B-ATTRIBUTE', False), ('mounted.', 'I-ATTRIBUTE', False), ('Do', 'O', False), ('you', 'O', False), ('sell', 'O', False), ('theM', 'O', False)]\n",
      "[('I', 'O', False), ('am', 'O', False), ('looking', 'O', False), ('for', 'O', False), ('soaker', 'B-ATTRIBUTE', False), ('tub', 'B-PRODUCT', False), ('but', 'O', False), ('do', 'O', False), ('not', 'O', False), ('want', 'O', False), ('stand', 'B-ATTRIBUTE', True), ('alone.', 'I-ATTRIBUTE', True), ('I', 'O', False), ('am', 'O', False), ('replacing', 'O', False), ('my', 'O', False), ('oval', 'B-SHAPE', True), ('jacuzzi', 'B-PRODUCT', True)]\n",
      "[('Where', 'O', False), ('is', 'O', False), ('the', 'O', False), ('mirror', 'B-PRODUCT', False), ('on', 'O', False), ('here.', 'O', False), ('I', 'O', False), (\"don't\", 'O', False), ('want', 'O', False), ('linen', 'B-MATERIAL', True), ('cabinet', 'B-PRODUCT', True)]\n",
      "[('Hello,', 'O', False), ('I', 'O', False), ('need', 'O', False), ('a', 'O', False), ('standup', 'B-ATTRIBUTE', False), ('shower', 'B-PRODUCT', False), ('door', 'I-PRODUCT', False), ('only,', 'O', False), ('no', 'O', False), ('side', 'B-ATTRIBUTE', True), ('panels.', 'I-ATTRIBUTE', True), ('41', 'B-SIZE', False), ('inches', 'I-SIZE', False), ('wide', 'I-SIZE', False)]\n",
      "[(\"I'm\", 'O', False), ('looking', 'O', False), ('for', 'O', False), ('a', 'O', False), ('double', 'B-ATTRIBUTE', False), ('sink', 'B-PRODUCT', False), ('kitchen', 'I-PRODUCT', False), ('close', 'O', False), ('to', 'O', False), ('52', 'B-SIZE', False), ('inches', 'I-SIZE', False), ('no', 'O', False), ('bigger', 'B-SIZE', True), ('with', 'O', False), ('countertop', 'B-ATTRIBUTE', False)]\n",
      "[(\"I'm\", 'O', False), ('looking', 'O', False), ('for', 'O', False), ('bypass', 'O', False), ('shower', 'B-PRODUCT', False), ('doors', 'I-PRODUCT', False), ('in', 'O', False), ('chrome', 'B-MATERIAL', False), ('with', 'O', False), ('clear', 'B-MATERIAL', False), ('glass.', 'I-MATERIAL', False), ('The', 'O', False), ('opening', 'O', False), ('would', 'O', False), ('be', 'O', False), ('for', 'O', False), ('a', 'O', False), ('59\"', 'B-SIZE', False), ('width', 'I-SIZE', False), ('and', 'O', False), ('the', 'O', False), ('height', 'B-SIZE', False), (\"I'm\", 'O', False), ('looking', 'O', False), ('for', 'O', False), ('is', 'O', False), ('76\".', 'B-SIZE', False), ('I', 'O', False), (\"don't\", 'O', False), ('want', 'O', False), ('any', 'O', False), ('rubber', 'B-MATERIAL', True), ('seals', 'B-ATTRIBUTE', True), ('around', 'O', False), ('the', 'O', False), ('glass', 'B-MATERIAL', False), ('doors.', 'B-PRODUCT', False)]\n",
      "[('Can', 'O', False), ('the', 'O', False), ('2\"', 'B-SIZE', True), ('backsplash,', 'B-ATTRIBUTE', True), ('on', 'O', False), ('the', 'O', False), ('60\"', 'B-SIZE', False), ('single', 'B-PRODUCT', False), ('sink', 'I-PRODUCT', False), ('countertop,', 'I-PRODUCT', False), ('be', 'O', False), ('removed?', 'O', False), ('Or', 'O', False), ('is', 'O', False), ('the', 'O', False), ('counter', 'B-PRODUCT', False), ('and', 'O', False), ('backsplash', 'B-ATTRIBUTE', False), ('one', 'O', False), ('piece?', 'O', False), ('If', 'O', False), ('so,', 'O', False), ('do', 'O', False), ('you', 'O', False), ('have', 'O', False), ('a', 'O', False), ('single', 'B-PRODUCT', False), ('sink,', 'I-PRODUCT', False), ('white', 'B-COLOUR', False), ('60\"', 'B-SIZE', False), ('vanity', 'B-PRODUCT', False), ('with', 'O', False), ('no', 'O', False), ('backsplash', 'B-ATTRIBUTE', True), ('piece?', 'I-ATTRIBUTE', True)]\n",
      "[(\"We're\", 'O', False), ('looking', 'O', False), ('for', 'O', False), ('a', 'O', False), ('60', 'B-SIZE', False), ('inch', 'I-SIZE', False), ('left', 'B-ATTRIBUTE', False), ('drain', 'I-ATTRIBUTE', False), ('alcove', 'B-ATTRIBUTE', False), ('tub', 'B-PRODUCT', False), ('which', 'O', False), ('is', 'O', False), ('a', 'O', False), ('soaker', 'B-ATTRIBUTE', False), ('tub', 'B-PRODUCT', False), ('with', 'O', False), ('no', 'O', False), ('more', 'O', False), ('than', 'O', False), ('15\"', 'B-SIZE', True), ('height.', 'I-SIZE', True), ('In', 'O', False), ('white.', 'B-COLOUR', False)]\n",
      "[('just', 'O', False), ('need', 'O', False), ('glass', 'B-MATERIAL', False), ('doors', 'B-PRODUCT', False), ('no', 'O', False), ('end', 'B-PRODUCT', True), ('glass', 'I-PRODUCT', True)]\n",
      "[(\"I'm\", 'O', False), ('looking', 'O', False), ('to', 'O', False), ('buy', 'O', False), ('a', 'O', False), ('42\"', 'B-SIZE', False), ('gazebo', 'B-PRODUCT', False), ('with', 'O', False), ('no', 'O', False), ('more', 'O', False), ('than', 'O', False), ('21\"', 'B-SIZE', True), ('depth', 'I-SIZE', True)]\n",
      "[('Do', 'O', False), ('you', 'O', False), ('have', 'O', False), ('shelves', 'B-PRODUCT', False), ('that', 'O', False), ('mount', 'O', False), ('to', 'O', False), ('a', 'O', False), ('wall,', 'O', False), ('no', 'O', False), ('screw', 'B-ATTRIBUTE', True), ('30', 'B-SIZE', False), ('inches', 'I-SIZE', False)]\n",
      "[('Do', 'O', False), ('you', 'O', False), ('have', 'O', False), ('a', 'O', False), ('wall', 'B-ATTRIBUTE', False), ('mount', 'I-ATTRIBUTE', False), ('sink', 'B-PRODUCT', False), ('without', 'O', False), ('a', 'O', False), ('faucet', 'B-ATTRIBUTE', True), ('hole', 'I-ATTRIBUTE', True)]\n",
      "[('Just', 'O', False), ('shower', 'B-PRODUCT', False), ('base', 'I-PRODUCT', False), ('without', 'O', False), ('walls', 'B-ATTRIBUTE', True)]\n",
      "[(\"I'm\", 'O', False), ('looking', 'O', False), ('for', 'O', False), ('a', 'O', False), ('shower', 'B-PRODUCT', False), ('unit,', 'I-PRODUCT', False), ('60\"', 'B-SIZE', False), ('wide', 'I-SIZE', False), ('by', 'O', False), ('42\"', 'B-SIZE', False), ('deep,', 'I-SIZE', False), ('with', 'O', False), ('no', 'O', False), ('seat', 'B-ATTRIBUTE', True), ('and', 'O', False), ('no', 'O', False), ('top', 'B-ATTRIBUTE', True)]\n",
      "[('luggage', 'B-PRODUCT', False), ('without', 'O', False), ('wheels', 'B-ATTRIBUTE', True)]\n",
      "[('I', 'O', False), ('found', 'O', False), ('a', 'O', False), ('vanity', 'B-PRODUCT', False), ('top', 'I-PRODUCT', False), ('I', 'O', False), ('love', 'O', False), ('but', 'O', False), ('it', 'O', False), ('has', 'O', False), ('only', 'O', False), ('one', 'B-ATTRIBUTE', True), ('hole', 'I-ATTRIBUTE', True), ('for', 'O', False), ('taps', 'B-ATTRIBUTE', False), ('and', 'O', False), ('that', 'O', False), (\"doesn't\", 'O', False), ('suit', 'O', False), ('our', 'O', False), ('needs', 'O', False)]\n",
      "[('Hi.', 'O', False), ('Do', 'O', False), ('you', 'O', False), ('have', 'O', False), ('sheer', 'B-PRODUCT', False), ('curtains', 'I-PRODUCT', False), ('which', 'O', False), ('I', 'O', False), ('can', 'O', False), ('place', 'O', False), ('on', 'O', False), ('hooks', 'B-ATTRIBUTE', False), ('instead', 'O', False), ('of', 'O', False), ('a', 'O', False), ('rod', 'B-ATTRIBUTE', True)]\n",
      "[('Unflavored', 'B-ATTRIBUTE', True), ('unsweetened', 'B-ATTRIBUTE', False)]\n",
      "[('Looking', 'O', False), ('for', 'O', False), ('bowl', 'B-PRODUCT', False), ('with', 'O', False), ('pattern', 'B-ATTRIBUTE', False), ('LESS', 'O', False), ('than', 'O', False), ('5', 'B-SIZE', True), ('inches', 'I-SIZE', True), ('deep.', 'I-SIZE', True), ('Can', 'O', False), ('be', 'O', False), ('7', 'B-SIZE', False), ('inches', 'I-SIZE', False), ('wide', 'I-SIZE', False)]\n",
      "[('Do', 'O', False), ('you', 'O', False), ('sell', 'O', False), ('beige', 'B-COLOUR', False), ('toilets.', 'B-PRODUCT', False), ('Bone', 'B-COLOUR', True), ('and', 'O', False), ('buscuit', 'B-COLOUR', True), ('are', 'O', False), ('too', 'O', False), ('light', 'O', False), ('in', 'O', False), ('colour', 'O', False)]\n",
      "[('Looking', 'O', False), ('for', 'O', False), ('protein', 'B-PRODUCT', False), ('powder', 'I-PRODUCT', False), ('no', 'O', False), ('carb', 'B-ATTRIBUTE', True), ('no', 'O', False), ('suger', 'B-ATTRIBUTE', True)]\n",
      "[('i', 'O', False), ('want', 'O', False), ('protein', 'B-PRODUCT', False), ('without', 'O', False), ('lactose', 'B-ATTRIBUTE', True)]\n",
      "[(\"I'm\", 'O', False), ('looking', 'O', False), ('for', 'O', False), ('whey', 'B-PRODUCT', False), ('proteine', 'I-PRODUCT', False), ('with', 'O', False), ('not', 'O', False), ('soy', 'B-ATTRIBUTE', True), ('in', 'O', False), ('it!', 'O', False)]\n",
      "[('Hi,', 'O', False), ('I', 'O', False), ('am', 'O', False), ('looking', 'O', False), ('for', 'O', False), ('a', 'O', False), ('whey', 'B-PRODUCT', False), ('protein', 'I-PRODUCT', False), ('with', 'O', False), ('not', 'O', False), ('soy,', 'B-ATTRIBUTE', True), ('does', 'O', False), ('it', 'O', False), ('even', 'O', False), ('exist?', 'O', False)]\n",
      "[(\"I'm\", 'O', False), ('looking', 'O', False), ('for', 'O', False), ('a', 'O', False), ('supplement', 'B-PRODUCT', False), ('to', 'O', False), ('help', 'O', False), ('me', 'O', False), ('get', 'O', False), ('back', 'O', False), ('into', 'O', False), ('ketosis', 'B-ATTRIBUTE', False), (',', 'O', False), ('but', 'O', False), ('not', 'O', False), ('a', 'O', False), ('pill.', 'B-ATTRIBUTE', True), ('Something', 'O', False), ('I', 'O', False), ('can', 'O', False), ('mix', 'O', False), ('in', 'O', False), ('my', 'O', False), ('water.', 'O', False)]\n",
      "[('Hi,', 'O', False), ('I', 'O', False), ('would', 'O', False), ('like', 'O', False), ('to', 'O', False), ('have', 'O', False), ('a', 'O', False), ('protein', 'B-PRODUCT', False), ('powder', 'I-PRODUCT', False), ('without', 'O', False), ('caffeine', 'B-ATTRIBUTE', True)]\n",
      "[('i', 'O', False), ('am', 'O', False), ('looking', 'O', False), ('for', 'O', False), ('a', 'O', False), ('very', 'O', False), ('good', 'O', False), ('fat', 'B-PRODUCT', False), ('burner', 'I-PRODUCT', False), ('thats', 'O', False), ('not', 'O', False), ('too', 'O', False), ('heavy', 'B-ATTRIBUTE', True), ('in', 'I-ATTRIBUTE', True), ('stimulants.', 'I-ATTRIBUTE', True)]\n",
      "[(\"I'm\", 'O', False), ('looking', 'O', False), ('for', 'O', False), ('a', 'O', False), ('polo', 'B-PRODUCT', False), ('shirt', 'I-PRODUCT', False), ('with', 'O', False), ('no', 'O', False), ('logo', 'B-ATTRIBUTE', True), ('on', 'O', False), ('it.', 'O', False)]\n",
      "[('I', 'O', False), ('am', 'O', False), ('looking', 'O', False), ('for', 'O', False), ('a', 'O', False), ('bomber', 'B-ATTRIBUTE', False), ('style', 'I-ATTRIBUTE', False), ('jacket', 'B-PRODUCT', False), ('2', 'B-SIZE', False), ('XS', 'I-SIZE', False), ('no', 'O', False), ('hoody', 'B-ATTRIBUTE', True), (',', 'O', False), ('and', 'O', False), ('black', 'B-COLOUR', False)]\n",
      "[(\"Women's\", 'B-ATTRIBUTE', False), ('pyjama', 'B-PRODUCT', False), ('pants', 'I-PRODUCT', False), ('without', 'O', False), ('waistband', 'B-ATTRIBUTE', True)]\n",
      "[('Hi,', 'O', False), (\"I'm\", 'O', False), ('interested', 'O', False), ('in', 'O', False), ('the', 'O', False), (\"women's\", 'B-ATTRIBUTE', False), ('waterproof', 'I-ATTRIBUTE', False), ('mountain', 'B-PRODUCT', False), ('walking', 'I-PRODUCT', False), ('jacket', 'I-PRODUCT', False), ('in', 'O', False), ('green', 'B-COLOUR', False), ('but', 'O', False), ('the', 'O', False), ('website', 'O', False), ('only', 'O', False), ('gives', 'O', False), ('the', 'O', False), ('option', 'O', False), ('for', 'O', False), ('size', 'B-SIZE', True), ('XS', 'I-SIZE', True), ('and', 'O', False), ('does', 'O', False), ('not', 'O', False), ('allow', 'O', False), ('to', 'O', False), ('request', 'O', False), ('a', 'O', False), ('notification', 'O', False)]\n",
      "[('Pool', 'B-PRODUCT', False), ('cue', 'I-PRODUCT', False), ('cases', 'I-PRODUCT', False), ('not', 'O', False), ('pool', 'B-PRODUCT', True), ('cues', 'I-PRODUCT', True)]\n",
      "[('is', 'O', False), ('it', 'O', False), ('possible', 'O', False), ('to', 'O', False), ('order', 'O', False), ('a', 'O', False), ('bathroom', 'B-PRODUCT', False), ('vanity', 'I-PRODUCT', False), ('without', 'O', False), ('the', 'O', False), ('countertop?', 'B-ATTRIBUTE', True)]\n",
      "[(\"I'm\", 'O', False), ('looking', 'O', False), ('for', 'O', False), ('a', 'O', False), ('shower', 'B-PRODUCT', False), ('unit', 'I-PRODUCT', False), ('including', 'O', False), ('walls', 'B-ATTRIBUTE', False), ('bae', 'I-ATTRIBUTE', False), ('and', 'O', False), ('glass', 'B-MATERIAL', False), ('enclosure', 'O', False), ('but', 'O', False), ('the', 'O', False), ('whole', 'O', False), ('unit', 'O', False), ('cannot', 'O', False), ('be', 'O', False), ('higher', 'B-SIZE', False), ('than', 'O', False), ('75', 'B-SIZE', True), ('inches', 'I-SIZE', True)]\n",
      "[('Hi', 'O', False), ('i', 'O', False), ('need', 'O', False), ('a', 'O', False), ('10\"', 'B-SIZE', False), ('rough', 'O', False), ('in', 'O', False), ('toilet', 'B-PRODUCT', False), ('asap,', 'O', False), (\"i'm\", 'O', False), ('not', 'O', False), ('sure', 'O', False), ('if', 'O', False), ('you', 'O', False), ('have', 'O', False), ('it', 'O', False), ('in', 'O', False), ('stock.', 'O', False), ('I', 'O', False), (\"don't\", 'O', False), ('want', 'O', False), ('the', 'O', False), ('screw', 'B-ATTRIBUTE', True), ('less', 'I-ATTRIBUTE', False)]\n",
      "[('Can', 'O', False), ('the', 'O', False), ('shower', 'B-PRODUCT', False), ('be', 'O', False), ('sold', 'O', False), ('without', 'O', False), ('the', 'O', False), ('walls?', 'B-ATTRIBUTE', True)]\n",
      "[('looking', 'O', False), ('for', 'O', False), ('shower', 'B-PRODUCT', False), ('system', 'I-PRODUCT', False), ('with', 'O', False), ('tub', 'B-ATTRIBUTE', False), ('faucet', 'I-ATTRIBUTE', False), ('altough', 'O', False), ('no', 'O', False), ('tub', 'B-PRODUCT', True)]\n",
      "[('Looking', 'O', False), ('for', 'O', False), ('a', 'O', False), ('bathroom', 'B-PRODUCT', False), ('vanity', 'I-PRODUCT', False), ('&', 'O', False), ('sink', 'B-PRODUCT', False), ('no', 'O', False), ('more', 'O', False), ('than', 'O', False), ('16\"', 'B-SIZE', True), ('deep', 'I-SIZE', True)]\n",
      "[('looking', 'O', False), ('for', 'O', False), ('48', 'B-SIZE', False), ('inches', 'I-SIZE', False), ('floor', 'B-PRODUCT', False), ('cabinet', 'I-PRODUCT', False), ('single', 'I-PRODUCT', False), ('sink,', 'I-PRODUCT', False), ('but', 'O', False), ('no', 'O', False), ('couter', 'B-ATTRIBUTE', True), ('top', 'I-ATTRIBUTE', True)]\n",
      "[('Can', 'O', False), ('I', 'O', False), ('purchase', 'O', False), ('shower', 'B-PRODUCT', False), ('doors', 'I-PRODUCT', False), ('and', 'O', False), ('not', 'O', False), ('the', 'O', False), ('entire', 'B-PRODUCT', True), ('shower', 'I-PRODUCT', True), ('kit?', 'I-PRODUCT', True)]\n",
      "[('Medicine', 'B-PRODUCT', False), ('cabinets', 'I-PRODUCT', False), ('with', 'O', False), ('no', 'O', False), ('mirror', 'B-ATTRIBUTE', True)]\n",
      "[(\"I'm\", 'O', False), ('looking', 'O', False), ('for', 'O', False), ('a', 'O', False), ('55', 'B-SIZE', False), ('inch', 'I-SIZE', False), ('vanity', 'B-PRODUCT', False), ('top,', 'I-PRODUCT', False), ('which', 'O', False), ('is', 'O', False), ('not', 'O', False), ('a', 'O', False), ('regular', 'B-SIZE', True), ('size.', 'I-SIZE', True), ('Is', 'O', False), ('there', 'O', False), ('a', 'O', False), ('way', 'O', False), ('to', 'O', False), ('have', 'O', False), ('this', 'O', False), ('size?', 'O', False)]\n",
      "[('I', 'O', False), ('am', 'O', False), ('looking', 'O', False), ('for', 'O', False), ('a', 'O', False), ('black', 'B-COLOUR', False), ('glass', 'B-MATERIAL', False), ('shower', 'B-PRODUCT', False), ('tile.', 'I-PRODUCT', False), ('It', 'O', False), ('does', 'O', False), ('not', 'O', False), ('need', 'O', False), ('to', 'O', False), ('be', 'O', False), ('a', 'O', False), ('solid', 'B-COLOUR', True), ('black,', 'I-COLOUR', True), ('can', 'O', False), ('have', 'O', False), ('accents', 'O', False), ('of', 'O', False), ('clear', 'B-COLOUR', False), ('or', 'O', False), ('silver', 'B-COLOUR', False), ('glass', 'I-COLOUR', False), ('tones', 'I-COLOUR', False)]\n",
      "[('Medicine', 'B-PRODUCT', False), ('cabinet', 'I-PRODUCT', False), ('with', 'O', False), ('mirror', 'B-ATTRIBUTE', False), ('and', 'O', False), ('no', 'O', False), ('lights', 'B-ATTRIBUTE', True)]\n",
      "[('We', 'O', False), ('are', 'O', False), ('looking', 'O', False), ('for', 'O', False), ('a', 'O', False), ('72', 'B-SIZE', False), ('inch', 'I-SIZE', False), ('soaker', 'B-PRODUCT', False), ('tub,', 'I-PRODUCT', False), ('no', 'O', False), ('jets.', 'B-ATTRIBUTE', True)]\n",
      "[('can', 'O', False), ('I', 'O', False), ('order', 'O', False), ('just', 'O', False), ('the', 'O', False), ('top', 'B-PRODUCT', False), ('and', 'O', False), ('not', 'O', False), ('the', 'O', False), ('cabinet?', 'B-PRODUCT', True)]\n",
      "[('barbeque', 'B-PRODUCT', False), ('without', 'O', False), ('charcoal', 'B-ATTRIBUTE', True)]\n",
      "[('Hi', 'O', False), ('there,', 'O', False), (\"I'm\", 'O', False), ('interested', 'O', False), ('in', 'O', False), ('a', 'O', False), ('vanity.', 'B-PRODUCT', False), ('Am', 'O', False), ('I', 'O', False), ('able', 'O', False), ('to', 'O', False), ('purchase', 'O', False), ('without', 'O', False), ('the', 'O', False), ('sink', 'B-ATTRIBUTE', True), ('top?', 'I-ATTRIBUTE', True)]\n",
      "[('Can', 'O', False), ('I', 'O', False), ('order', 'O', False), ('this', 'O', False), ('vessel', 'B-PRODUCT', False), ('sink', 'I-PRODUCT', False), ('without', 'O', False), ('the', 'O', False), ('attached', 'B-ATTRIBUTE', True), ('faucet', 'I-ATTRIBUTE', True), ('?', 'O', False)]\n",
      "[(\"I'm\", 'O', False), ('looking', 'O', False), ('for', 'O', False), ('a', 'O', False), ('30\"', 'B-SIZE', False), ('cabinet', 'B-PRODUCT', False), ('with', 'O', False), ('no', 'O', False), ('top', 'B-ATTRIBUTE', True)]\n",
      "[('Looking', 'O', False), ('for', 'O', False), ('vanity', 'B-PRODUCT', False), ('but', 'O', False), ('sink', 'B-ATTRIBUTE', True), ('must', 'I-ATTRIBUTE', True), ('have', 'I-ATTRIBUTE', True), ('no', 'I-ATTRIBUTE', True), ('holes.', 'I-ATTRIBUTE', True), ('Faucet', 'B-ATTRIBUTE', False), ('in', 'I-ATTRIBUTE', False), ('on', 'I-ATTRIBUTE', False), ('wall', 'I-ATTRIBUTE', False), ('already', 'O', False)]\n",
      "[('Hi.', 'O', False), (\"I'm\", 'O', False), ('looking', 'O', False), ('for', 'O', False), ('36\"', 'B-SIZE', False), ('vanity', 'B-PRODUCT', False), ('wall', 'B-ATTRIBUTE', False), ('mounted', 'I-ATTRIBUTE', False), ('black', 'B-COLOUR', False), ('or', 'O', False), ('white.', 'B-COLOUR', False), ('With', 'O', False), ('towel', 'B-ATTRIBUTE', False), ('storage', 'I-ATTRIBUTE', False), ('but', 'O', False), ('no', 'O', False), ('sinc', 'B-ATTRIBUTE', True)]\n",
      "[('I', 'O', False), ('want', 'O', False), ('just', 'O', False), ('this', 'O', False), ('cabinet', 'B-PRODUCT', False), ('without', 'O', False), ('the', 'O', False), ('top', 'B-ATTRIBUTE', True), ('as', 'O', False), ('i', 'O', False), ('want', 'O', False), ('top', 'B-PRODUCT', False), ('mounted', 'I-PRODUCT', False), ('basins', 'I-PRODUCT', False), ('on', 'O', False), ('a', 'O', False), ('surface', 'O', False), ('matching', 'O', False), ('my', 'O', False), ('kitchen', 'O', False)]\n",
      "[('bathtub', 'B-PRODUCT', False), ('without', 'O', False), ('faucet?', 'B-ATTRIBUTE', True)]\n",
      "[('Can', 'O', False), ('you', 'O', False), ('order', 'O', False), ('the', 'O', False), ('59\"', 'B-SIZE', False), ('bathrub', 'B-PRODUCT', False), ('without', 'O', False), ('the', 'O', False), ('faucet?', 'B-ATTRIBUTE', True)]\n",
      "[('I', 'O', False), ('want', 'O', False), ('Grey', 'B-COLOUR', False), ('toilet', 'B-PRODUCT', False), ('not', 'O', False), ('assessceries', 'B-PRODUCT', True)]\n",
      "[('do', 'O', False), ('you', 'O', False), ('have', 'O', False), ('60', 'B-SIZE', False), ('Inch', 'I-SIZE', False), ('kitchen', 'B-PRODUCT', False), ('island', 'I-PRODUCT', False), ('with', 'O', False), ('quartz', 'B-MATERIAL', False), ('top', 'B-ATTRIBUTE', False), ('with', 'O', False), ('no', 'O', False), ('seatings', 'B-ATTRIBUTE', True)]\n",
      "[('Bath', 'B-PRODUCT', False), ('tub', 'I-PRODUCT', False), ('without', 'O', False), ('texture', 'B-TEXTURE', True)]\n",
      "[('Looking', 'O', False), ('for', 'O', False), ('a', 'O', False), ('bathroom', 'B-PRODUCT', False), ('cabinet', 'I-PRODUCT', False), ('without', 'O', False), ('top', 'B-ATTRIBUTE', True), ('60', 'B-SIZE', False), ('inches', 'I-SIZE', False)]\n",
      "[('I', 'O', False), ('need', 'O', False), ('a', 'O', False), ('60\"', 'B-SIZE', False), ('vanity', 'B-PRODUCT', False), ('with', 'O', False), ('a', 'O', False), ('sink', 'B-ATTRIBUTE', False), (\"that's\", 'O', False), ('offset', 'B-ATTRIBUTE', False), ('to', 'I-ATTRIBUTE', False), ('the', 'I-ATTRIBUTE', False), ('right', 'I-ATTRIBUTE', False), ('-', 'O', False), ('not', 'O', False), ('centred', 'B-ATTRIBUTE', True)]\n",
      "[('I', 'O', False), ('am', 'O', False), ('looking', 'O', False), ('for', 'O', False), ('a', 'O', False), ('37', 'B-SIZE', False), ('inch', 'I-SIZE', False), ('bathroom', 'B-PRODUCT', False), ('cabinet', 'I-PRODUCT', False), ('without', 'O', False), ('a', 'O', False), ('top', 'B-ATTRIBUTE', True), ('or', 'O', False), ('sink', 'B-ATTRIBUTE', True), ('because', 'O', False), ('I', 'O', False), ('have', 'O', False), ('one.', 'O', False), ('Do', 'O', False), ('you', 'O', False), ('have', 'O', False), ('anything', 'O', False), ('in', 'O', False), ('stock?', 'O', False)]\n",
      "[(\"I'm\", 'O', False), ('looking', 'O', False), ('for', 'O', False), ('a', 'O', False), ('mirror', 'B-PRODUCT', False), ('without', 'O', False), ('a', 'O', False), ('fram', 'B-ATTRIBUTE', True), ('40', 'B-SIZE', False), ('inches', 'I-SIZE', False), ('x', 'O', False), ('60', 'B-SIZE', False), ('inches', 'I-SIZE', False)]\n",
      "[('Hi', 'O', False), ('looking', 'O', False), ('for', 'O', False), ('a', 'O', False), ('24', 'B-SIZE', False), ('inch', 'I-SIZE', False), ('vanity', 'B-PRODUCT', False), ('top', 'I-PRODUCT', False), ('and', 'I-PRODUCT', False), ('sink,', 'I-PRODUCT', False), ('no', 'O', False), ('base', 'B-ATTRIBUTE', True)]\n",
      "[('Bathroom', 'B-PRODUCT', False), ('vanities', 'I-PRODUCT', False), ('no', 'O', False), ('countertop', 'B-ATTRIBUTE', True)]\n",
      "[('I', 'O', False), (\"don't\", 'O', False), ('want', 'O', False), ('double', 'B-ATTRIBUTE', True), ('sink,', 'B-PRODUCT', True), ('I', 'O', False), ('want', 'O', False), ('a', 'O', False), ('rectangle', 'B-SHAPE', False), ('sink', 'B-PRODUCT', False)]\n",
      "[('Looking', 'O', False), ('for', 'O', False), ('a', 'O', False), ('30', 'B-SIZE', False), ('inch', 'I-SIZE', False), ('bathroom', 'B-PRODUCT', False), ('vanity', 'I-PRODUCT', False), ('not', 'O', False), ('55\"', 'B-SIZE', True)]\n",
      "[('I', 'O', False), ('am', 'O', False), ('looking', 'O', False), ('for', 'O', False), ('a', 'O', False), ('30', 'B-SIZE', False), ('inch', 'I-SIZE', False), ('bathroom', 'B-PRODUCT', False), ('shelf', 'I-PRODUCT', False), ('not', 'O', False), ('wall', 'B-ATTRIBUTE', True), ('mounted', 'I-ATTRIBUTE', True)]\n",
      "[('Wall', 'B-ATTRIBUTE', False), ('mount', 'I-ATTRIBUTE', False), ('rectangular', 'B-SHAPE', False), ('sink', 'B-PRODUCT', False), ('without', 'O', False), ('a', 'O', False), ('faucet', 'B-ATTRIBUTE', True), ('hole', 'I-ATTRIBUTE', True)]\n",
      "[('Grey', 'B-COLOUR', False), ('toilet', 'B-PRODUCT', False), ('not', 'O', False), ('toilet', 'B-PRODUCT', True), ('brush', 'I-PRODUCT', True)]\n",
      "[('can', 'O', False), ('you', 'O', False), ('help', 'O', False), ('me', 'O', False), ('find', 'O', False), ('a', 'O', False), ('pharmacy', 'B-PRODUCT', False), ('without', 'O', False), ('a', 'O', False), ('mirror', 'B-ATTRIBUTE', True), ('18-20\"', 'B-SIZE', False), ('wide?', 'I-SIZE', False)]\n",
      "[('I', 'O', False), ('am', 'O', False), ('looking', 'O', False), ('for', 'O', False), ('a', 'O', False), ('toilet', 'B-PRODUCT', False), ('seat', 'I-PRODUCT', False), ('without', 'O', False), ('undermounted', 'B-ATTRIBUTE', True), ('hinges', 'I-ATTRIBUTE', True), ('for', 'O', False), ('a', 'O', False), ('one', 'B-ATTRIBUTE', False), ('piece', 'I-ATTRIBUTE', False), ('toilet', 'I-ATTRIBUTE', False)]\n",
      "[('Do', 'O', False), ('you', 'O', False), ('have', 'O', False), ('mirror', 'B-PRODUCT', False), ('medicine', 'I-PRODUCT', False), ('cabinet', 'I-PRODUCT', False), ('without', 'O', False), ('led', 'B-ATTRIBUTE', True)]\n",
      "[('Do', 'O', False), ('you', 'O', False), ('have', 'O', False), ('shower', 'B-PRODUCT', False), ('panels', 'I-PRODUCT', False), ('that', 'O', False), (\"aren't\", 'O', False), ('see', 'B-ATTRIBUTE', True), ('through?', 'I-ATTRIBUTE', True), ('Like', 'O', False), ('frosted', 'B-MATERIAL', False), ('glass', 'I-MATERIAL', False)]\n",
      "[('I', 'O', False), (\"don't\", 'O', False), ('need', 'O', False), ('a', 'O', False), ('vanity', 'B-PRODUCT', True), ('just', 'O', False), ('the', 'O', False), ('quartz', 'B-MATERIAL', False), ('top', 'B-PRODUCT', False), ('with', 'O', False), ('built', 'B-ATTRIBUTE', False), ('in', 'I-ATTRIBUTE', False), ('sink', 'I-ATTRIBUTE', False)]\n",
      "[('Looking', 'O', False), ('for', 'O', False), ('a', 'O', False), ('large', 'B-SIZE', False), ('free', 'B-ATTRIBUTE', False), ('standing', 'I-ATTRIBUTE', False), ('tub...', 'B-PRODUCT', False), ('not', 'O', False), ('acrylic', 'B-MATERIAL', True), ('or', 'O', False), ('fiberglass', 'B-MATERIAL', True)]\n",
      "[('i', 'O', False), (\"don't\", 'O', False), ('want', 'O', False), ('a', 'O', False), ('complete', 'O', False), ('vanity', 'B-PRODUCT', True), ('just', 'O', False), ('the', 'O', False), ('top', 'B-PRODUCT', False)]\n",
      "[('Thank', 'O', False), ('you', 'O', False), ('very', 'O', False), ('much', 'O', False), (\"I'm\", 'O', False), ('looking', 'O', False), ('for', 'O', False), ('a', 'O', False), ('shower', 'B-PRODUCT', False), ('stall', 'I-PRODUCT', False), ('kit', 'I-PRODUCT', False), ('that', 'O', False), ('is', 'O', False), ('not', 'O', False), ('priced', 'B-PRICE', True), ('to', 'I-PRICE', True), ('high', 'I-PRICE', True), (\"it's\", 'O', False), ('for', 'O', False), ('a', 'O', False), ('basement', 'O', False)]\n",
      "[('t-shirt', 'B-PRODUCT', False), ('without', 'O', False), ('logo', 'B-ATTRIBUTE', True)]\n",
      "[('Shower', 'B-PRODUCT', False), ('door', 'I-PRODUCT', False), ('no', 'O', False), ('side', 'B-ATTRIBUTE', True), ('panels', 'I-ATTRIBUTE', True)]\n",
      "[('looking', 'O', False), ('for', 'O', False), ('a', 'O', False), ('bathtub', 'B-PRODUCT', False), ('left', 'B-ATTRIBUTE', False), ('hand', 'I-ATTRIBUTE', False), ('drain', 'I-ATTRIBUTE', False), ('but', 'O', False), ('square', 'B-SHAPE', False), ('not', 'O', False), ('oval', 'B-SHAPE', True)]\n",
      "[('Do', 'O', False), ('you', 'O', False), ('sell', 'O', False), ('a', 'O', False), ('tub', 'B-PRODUCT', False), ('shower', 'I-PRODUCT', False), ('faucet', 'I-PRODUCT', False), ('set', 'I-PRODUCT', False), ('that', 'O', False), ('does', 'O', False), ('not', 'O', False), ('have', 'O', False), ('the', 'O', False), ('anti', 'B-ATTRIBUTE', True), ('scald', 'I-ATTRIBUTE', True), ('feature?', 'I-ATTRIBUTE', True)]\n"
     ]
    }
   ],
   "source": [
    "for entry in neg_sents:\n",
    "    print(entry)"
   ]
  },
  {
   "cell_type": "code",
   "execution_count": 184,
   "id": "6297f60d-1c02-4b63-af2d-6fe3d8a90896",
   "metadata": {},
   "outputs": [
    {
     "name": "stdout",
     "output_type": "stream",
     "text": [
      "[('i', 'O'), ('need', 'O'), ('a', 'O'), ('48', 'B-SIZE'), ('inch', 'I-SIZE'), ('glass', 'B-MATERIAL'), ('sliding', 'B-PRODUCT'), ('goof', 'I-PRODUCT'), ('and', 'O'), ('a', 'O'), ('shower', 'B-PRODUCT'), ('pan', 'I-PRODUCT'), ('system', 'I-PRODUCT'), ('for', 'O'), ('500.99', 'B-PRICE'), ('or', 'I-PRICE'), ('less', 'I-PRICE')]\n",
      "[('curbless', 'B-ATTRIBUTE'), ('shower', 'B-PRODUCT')]\n",
      "[('twik', 'O'), ('white', 'B-COLOUR'), ('sleeveless', 'B-ATTRIBUTE'), ('button', 'B-ATTRIBUTE'), ('closure', 'I-ATTRIBUTE'), ('top', 'B-PRODUCT')]\n",
      "[('Sleeveless', 'B-ATTRIBUTE'), ('sweater', 'B-PRODUCT')]\n",
      "[('do', 'O'), ('you', 'O'), ('have', 'O'), ('the', 'O'), ('stainless', 'B-MATERIAL'), ('steel', 'I-MATERIAL'), ('shaker', 'B-PRODUCT'), ('cups', 'I-PRODUCT')]\n",
      "[('Hi,', 'O'), ('do', 'O'), ('you', 'O'), ('sell', 'O'), ('fingerless', 'B-ATTRIBUTE'), ('gloves', 'B-PRODUCT'), ('please', 'O')]\n",
      "[('hi,', 'O'), ('can', 'O'), ('I', 'O'), ('put', 'O'), ('a', 'O'), ('tankless', 'B-ATTRIBUTE'), ('toilet', 'B-PRODUCT'), ('into', 'O'), ('a', 'O'), ('2\"x', 'B-SIZE'), ('4\"', 'B-SIZE'), ('wall?', 'O')]\n",
      "[('seamless', 'B-ATTRIBUTE'), ('undermount', 'B-PRODUCT')]\n",
      "[('Touchless', 'B-ATTRIBUTE'), ('kitchen', 'B-PRODUCT'), ('faucet', 'I-PRODUCT')]\n",
      "[('Looking', 'O'), ('shower', 'B-PRODUCT'), ('door', 'I-PRODUCT'), ('frameless', 'B-ATTRIBUTE'), ('of', 'O'), ('60', 'B-SIZE'), ('inch', 'I-SIZE'), ('standing', 'B-ATTRIBUTE'), ('shower', 'B-PRODUCT')]\n",
      "[('Frameless', 'B-ATTRIBUTE'), ('beveled', 'B-ATTRIBUTE'), ('mirror', 'B-PRODUCT'), ('no', 'O'), ('more', 'O'), ('than', 'O'), ('29\"x29\"', 'B-SIZE')]\n",
      "[('I', 'O'), ('am', 'O'), ('looking', 'O'), ('for', 'O'), ('a', 'O'), ('kitchen', 'B-PRODUCT'), ('faucet', 'I-PRODUCT'), ('in', 'O'), ('Stainless', 'B-MATERIAL'), ('Steel.', 'I-MATERIAL'), ('Do', 'O'), ('you', 'O'), ('have', 'O'), ('in', 'O'), ('stock', 'O'), ('na', 'O'), ('did', 'O'), ('not', 'O'), ('what', 'O'), ('would', 'O'), ('be', 'O'), ('turn', 'O'), ('around', 'O'), ('time', 'O'), ('and', 'O'), ('pricing.', 'O'), ('Thanks', 'O')]\n",
      "[('Need', 'O'), ('a', 'O'), ('27', 'B-SIZE'), ('inch', 'I-SIZE'), ('frameless', 'B-ATTRIBUTE'), ('shower', 'B-PRODUCT'), ('door', 'I-PRODUCT')]\n"
     ]
    }
   ],
   "source": [
    "for entry in pos_sents:\n",
    "    for word in entry:\n",
    "        if word[0].startswith(\"un\") and \"-N-\" in word[1]:\n",
    "            print(entry)\n",
    "        if word[0].endswith(\"less\"):\n",
    "            print(entry)"
   ]
  },
  {
   "cell_type": "markdown",
   "id": "ddfc3b1f-82eb-4c26-bc69-e4a47d4cf44b",
   "metadata": {},
   "source": [
    "## Categories\n",
    "\n",
    "- bathroom (sink, mirror, shower, bathtub, shower curtains, squeegee, brush, toilet)\n",
    "- blankets\n",
    "- mirror\n",
    "- clothing and accessories\n",
    "- vanity/shelving/wardrobes\n",
    "- kitchen (sink, dishes, island)\n",
    "- glass doors\n",
    "- gazebo\n",
    "- supplements\n",
    "- luggage\n",
    "- furniture\n",
    "- pool cue case\n",
    "- barbecue"
   ]
  },
  {
   "cell_type": "markdown",
   "id": "7a533835-b639-46d1-8fcc-15573e4d950a",
   "metadata": {
    "tags": []
   },
   "source": [
    "## Observations\n",
    "\n",
    "- Difficult to locate and distinguish products and attributes even prior to attempting negation. Would it make sense to figure out what attributes likely to belong to a particular class of products are?\n",
    "- Negation tends not to persist across sentence boundaries\n",
    "- Punctuation is not separately tokenized\n",
    "- Annotation of negative size is not perfectly consistent: in the 17th negative sentence, the height is negated ('15\" height'), whereas in the 14th sentence, the comparative is negated (\"bigger\").\n",
    "- In words where the negation is marked by a prefix, e.g. \"unflavored\" in \"I'm looking for some unflavored mass gainer protein\", the entire word is given a negative tag (\"unflavored-B-N-ATTRIBUTE\"). This seems like it could cause confusion, since in this case it implies that \"unflavored\" is not what is desired.\n",
    "- The \"direction\" of negation is not always clear from the annotation. E.g., in \"I found a vanity top I love but it has only one hole for taps and that doesn't suit our needs\", \"one hole\" is negated, but it is not clear from that that more rather than fewer holes are desired.\n",
    "- Lots of grammatical errors, e.g. \"with not soy in it\". Using word and character embeddings would help with this\n",
    "- \"doesn't need to be X-attribute\" is annotated with a negation\n",
    "- \n",
    "\n",
    "## Ways of indicating negation (incomplete):\n",
    "\n",
    "- \"don't want (any)\"\n",
    "- \"no\"\n",
    "- \"no more than\"\n",
    "- \"less than\"\n",
    "- \"un-\"\n",
    "- \"without\"\n",
    "- \"only\"\n",
    "- \"-less\"\n",
    "- \"instead of\"\n",
    "- \"too\" (what comes before is negated, e.g. in \"pink is too light\", \"pink\" is negated)\n",
    "- \"not too\" (what comes after is negated, e.g. in \"not too light\", \"light\" is negated)\n",
    "- \"the website only gives the option of\"\n",
    "- \"without X or Y\" (two separately annotated entities separated by conjunction)"
   ]
  }
 ],
 "metadata": {
  "kernelspec": {
   "display_name": "Python 3 (ipykernel)",
   "language": "python",
   "name": "python3"
  },
  "language_info": {
   "codemirror_mode": {
    "name": "ipython",
    "version": 3
   },
   "file_extension": ".py",
   "mimetype": "text/x-python",
   "name": "python",
   "nbconvert_exporter": "python",
   "pygments_lexer": "ipython3",
   "version": "3.9.9"
  }
 },
 "nbformat": 4,
 "nbformat_minor": 5
}
