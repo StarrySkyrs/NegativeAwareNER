{
  "nbformat": 4,
  "nbformat_minor": 0,
  "metadata": {
    "colab": {
      "name": "GPT_generated_sentences.ipynb",
      "provenance": [],
      "collapsed_sections": [],
      "machine_shape": "hm"
    },
    "kernelspec": {
      "name": "python3",
      "display_name": "Python 3"
    },
    "language_info": {
      "name": "python"
    },
    "accelerator": "GPU"
  },
  "cells": [
    {
      "cell_type": "code",
      "execution_count": 1,
      "metadata": {
        "id": "6xubXVDtKrzE"
      },
      "outputs": [],
      "source": [
        "!pip install -q gpt-2-simple\n",
        "import gpt_2_simple as gpt2\n",
        "from datetime import datetime\n",
        "from google.colab import files"
      ]
    },
    {
      "cell_type": "code",
      "source": [
        "!nvidia-smi"
      ],
      "metadata": {
        "colab": {
          "base_uri": "https://localhost:8080/"
        },
        "id": "JDcYtqNVK9Za",
        "outputId": "459612b6-1eca-4f8f-d731-a1cd32dc902c"
      },
      "execution_count": 2,
      "outputs": [
        {
          "output_type": "stream",
          "name": "stdout",
          "text": [
            "Wed May 18 04:07:55 2022       \n",
            "+-----------------------------------------------------------------------------+\n",
            "| NVIDIA-SMI 460.32.03    Driver Version: 460.32.03    CUDA Version: 11.2     |\n",
            "|-------------------------------+----------------------+----------------------+\n",
            "| GPU  Name        Persistence-M| Bus-Id        Disp.A | Volatile Uncorr. ECC |\n",
            "| Fan  Temp  Perf  Pwr:Usage/Cap|         Memory-Usage | GPU-Util  Compute M. |\n",
            "|                               |                      |               MIG M. |\n",
            "|===============================+======================+======================|\n",
            "|   0  Tesla P100-PCIE...  Off  | 00000000:00:04.0 Off |                    0 |\n",
            "| N/A   57C    P0    32W / 250W |      0MiB / 16280MiB |      0%      Default |\n",
            "|                               |                      |                  N/A |\n",
            "+-------------------------------+----------------------+----------------------+\n",
            "                                                                               \n",
            "+-----------------------------------------------------------------------------+\n",
            "| Processes:                                                                  |\n",
            "|  GPU   GI   CI        PID   Type   Process name                  GPU Memory |\n",
            "|        ID   ID                                                   Usage      |\n",
            "|=============================================================================|\n",
            "|  No running processes found                                                 |\n",
            "+-----------------------------------------------------------------------------+\n"
          ]
        }
      ]
    },
    {
      "cell_type": "code",
      "source": [
        "gpt2.download_gpt2(model_name=\"124M\")"
      ],
      "metadata": {
        "colab": {
          "base_uri": "https://localhost:8080/"
        },
        "id": "q6cqspASLCJY",
        "outputId": "3c575d96-4a85-4d98-85b8-d03910ffa854"
      },
      "execution_count": 3,
      "outputs": [
        {
          "output_type": "stream",
          "name": "stderr",
          "text": [
            "Fetching checkpoint: 1.05Mit [00:00, 392Mit/s]                                                      \n",
            "Fetching encoder.json: 1.05Mit [00:00, 2.63Mit/s]\n",
            "Fetching hparams.json: 1.05Mit [00:00, 483Mit/s]                                                    \n",
            "Fetching model.ckpt.data-00000-of-00001: 498Mit [00:17, 28.3Mit/s]                                  \n",
            "Fetching model.ckpt.index: 1.05Mit [00:00, 298Mit/s]                                                \n",
            "Fetching model.ckpt.meta: 1.05Mit [00:00, 3.39Mit/s]\n",
            "Fetching vocab.bpe: 1.05Mit [00:00, 3.63Mit/s]\n"
          ]
        }
      ]
    },
    {
      "cell_type": "code",
      "source": [
        "gpt2.mount_gdrive()"
      ],
      "metadata": {
        "colab": {
          "base_uri": "https://localhost:8080/"
        },
        "id": "68p9lwwELkcj",
        "outputId": "45bc9e16-355c-4daa-e21e-a4f24a3e132f"
      },
      "execution_count": 4,
      "outputs": [
        {
          "output_type": "stream",
          "name": "stdout",
          "text": [
            "Mounted at /content/drive\n"
          ]
        }
      ]
    },
    {
      "cell_type": "code",
      "source": [
        "import pandas as pd\n",
        "data= pd.read_csv(\"/content/unnegated_Sentence_tags.csv\")"
      ],
      "metadata": {
        "id": "NLLuBAdTOfFO"
      },
      "execution_count": 6,
      "outputs": []
    },
    {
      "cell_type": "code",
      "source": [
        "data.head()"
      ],
      "metadata": {
        "colab": {
          "base_uri": "https://localhost:8080/",
          "height": 248
        },
        "id": "8qtLNfUSOtzp",
        "outputId": "34b72d40-c26d-4739-ed12-c918e2a82ae3"
      },
      "execution_count": 7,
      "outputs": [
        {
          "output_type": "execute_result",
          "data": {
            "text/plain": [
              "                                            Sentence  \\\n",
              "0  I am looking for a black gloss 33 inch firecla...   \n",
              "1  Looking for pre workout Pump addict instead of...   \n",
              "2  i need a 48 inch glass sliding goof and a show...   \n",
              "3  Hello, do any of your free standing tubs have ...   \n",
              "4  I'm looking for a 24 inch white mirror that is...   \n",
              "\n",
              "                                                Tags  \n",
              "0  O,O,O,O,O,B-COLOUR,B-TEXTURE,B-SIZE,I-SIZE,B-P...  \n",
              "1  O,O,B-PRODUCT,I-PRODUCT,I-PRODUCT,I-PRODUCT,O,...  \n",
              "2  O,O,O,B-SIZE,I-SIZE,B-MATERIAL,B-PRODUCT,I-PRO...  \n",
              "3  O,O,O,O,O,B-ATTRIBUTE,I-ATTRIBUTE,B-PRODUCT,O,...  \n",
              "4  O,O,O,O,B-SIZE,I-SIZE,B-COLOUR,B-PRODUCT,O,O,B...  "
            ],
            "text/html": [
              "\n",
              "  <div id=\"df-ebfad2e7-7603-460d-b128-36c5114cd5ad\">\n",
              "    <div class=\"colab-df-container\">\n",
              "      <div>\n",
              "<style scoped>\n",
              "    .dataframe tbody tr th:only-of-type {\n",
              "        vertical-align: middle;\n",
              "    }\n",
              "\n",
              "    .dataframe tbody tr th {\n",
              "        vertical-align: top;\n",
              "    }\n",
              "\n",
              "    .dataframe thead th {\n",
              "        text-align: right;\n",
              "    }\n",
              "</style>\n",
              "<table border=\"1\" class=\"dataframe\">\n",
              "  <thead>\n",
              "    <tr style=\"text-align: right;\">\n",
              "      <th></th>\n",
              "      <th>Sentence</th>\n",
              "      <th>Tags</th>\n",
              "    </tr>\n",
              "  </thead>\n",
              "  <tbody>\n",
              "    <tr>\n",
              "      <th>0</th>\n",
              "      <td>I am looking for a black gloss 33 inch firecla...</td>\n",
              "      <td>O,O,O,O,O,B-COLOUR,B-TEXTURE,B-SIZE,I-SIZE,B-P...</td>\n",
              "    </tr>\n",
              "    <tr>\n",
              "      <th>1</th>\n",
              "      <td>Looking for pre workout Pump addict instead of...</td>\n",
              "      <td>O,O,B-PRODUCT,I-PRODUCT,I-PRODUCT,I-PRODUCT,O,...</td>\n",
              "    </tr>\n",
              "    <tr>\n",
              "      <th>2</th>\n",
              "      <td>i need a 48 inch glass sliding goof and a show...</td>\n",
              "      <td>O,O,O,B-SIZE,I-SIZE,B-MATERIAL,B-PRODUCT,I-PRO...</td>\n",
              "    </tr>\n",
              "    <tr>\n",
              "      <th>3</th>\n",
              "      <td>Hello, do any of your free standing tubs have ...</td>\n",
              "      <td>O,O,O,O,O,B-ATTRIBUTE,I-ATTRIBUTE,B-PRODUCT,O,...</td>\n",
              "    </tr>\n",
              "    <tr>\n",
              "      <th>4</th>\n",
              "      <td>I'm looking for a 24 inch white mirror that is...</td>\n",
              "      <td>O,O,O,O,B-SIZE,I-SIZE,B-COLOUR,B-PRODUCT,O,O,B...</td>\n",
              "    </tr>\n",
              "  </tbody>\n",
              "</table>\n",
              "</div>\n",
              "      <button class=\"colab-df-convert\" onclick=\"convertToInteractive('df-ebfad2e7-7603-460d-b128-36c5114cd5ad')\"\n",
              "              title=\"Convert this dataframe to an interactive table.\"\n",
              "              style=\"display:none;\">\n",
              "        \n",
              "  <svg xmlns=\"http://www.w3.org/2000/svg\" height=\"24px\"viewBox=\"0 0 24 24\"\n",
              "       width=\"24px\">\n",
              "    <path d=\"M0 0h24v24H0V0z\" fill=\"none\"/>\n",
              "    <path d=\"M18.56 5.44l.94 2.06.94-2.06 2.06-.94-2.06-.94-.94-2.06-.94 2.06-2.06.94zm-11 1L8.5 8.5l.94-2.06 2.06-.94-2.06-.94L8.5 2.5l-.94 2.06-2.06.94zm10 10l.94 2.06.94-2.06 2.06-.94-2.06-.94-.94-2.06-.94 2.06-2.06.94z\"/><path d=\"M17.41 7.96l-1.37-1.37c-.4-.4-.92-.59-1.43-.59-.52 0-1.04.2-1.43.59L10.3 9.45l-7.72 7.72c-.78.78-.78 2.05 0 2.83L4 21.41c.39.39.9.59 1.41.59.51 0 1.02-.2 1.41-.59l7.78-7.78 2.81-2.81c.8-.78.8-2.07 0-2.86zM5.41 20L4 18.59l7.72-7.72 1.47 1.35L5.41 20z\"/>\n",
              "  </svg>\n",
              "      </button>\n",
              "      \n",
              "  <style>\n",
              "    .colab-df-container {\n",
              "      display:flex;\n",
              "      flex-wrap:wrap;\n",
              "      gap: 12px;\n",
              "    }\n",
              "\n",
              "    .colab-df-convert {\n",
              "      background-color: #E8F0FE;\n",
              "      border: none;\n",
              "      border-radius: 50%;\n",
              "      cursor: pointer;\n",
              "      display: none;\n",
              "      fill: #1967D2;\n",
              "      height: 32px;\n",
              "      padding: 0 0 0 0;\n",
              "      width: 32px;\n",
              "    }\n",
              "\n",
              "    .colab-df-convert:hover {\n",
              "      background-color: #E2EBFA;\n",
              "      box-shadow: 0px 1px 2px rgba(60, 64, 67, 0.3), 0px 1px 3px 1px rgba(60, 64, 67, 0.15);\n",
              "      fill: #174EA6;\n",
              "    }\n",
              "\n",
              "    [theme=dark] .colab-df-convert {\n",
              "      background-color: #3B4455;\n",
              "      fill: #D2E3FC;\n",
              "    }\n",
              "\n",
              "    [theme=dark] .colab-df-convert:hover {\n",
              "      background-color: #434B5C;\n",
              "      box-shadow: 0px 1px 3px 1px rgba(0, 0, 0, 0.15);\n",
              "      filter: drop-shadow(0px 1px 2px rgba(0, 0, 0, 0.3));\n",
              "      fill: #FFFFFF;\n",
              "    }\n",
              "  </style>\n",
              "\n",
              "      <script>\n",
              "        const buttonEl =\n",
              "          document.querySelector('#df-ebfad2e7-7603-460d-b128-36c5114cd5ad button.colab-df-convert');\n",
              "        buttonEl.style.display =\n",
              "          google.colab.kernel.accessAllowed ? 'block' : 'none';\n",
              "\n",
              "        async function convertToInteractive(key) {\n",
              "          const element = document.querySelector('#df-ebfad2e7-7603-460d-b128-36c5114cd5ad');\n",
              "          const dataTable =\n",
              "            await google.colab.kernel.invokeFunction('convertToInteractive',\n",
              "                                                     [key], {});\n",
              "          if (!dataTable) return;\n",
              "\n",
              "          const docLinkHtml = 'Like what you see? Visit the ' +\n",
              "            '<a target=\"_blank\" href=https://colab.research.google.com/notebooks/data_table.ipynb>data table notebook</a>'\n",
              "            + ' to learn more about interactive tables.';\n",
              "          element.innerHTML = '';\n",
              "          dataTable['output_type'] = 'display_data';\n",
              "          await google.colab.output.renderOutput(dataTable, element);\n",
              "          const docLink = document.createElement('div');\n",
              "          docLink.innerHTML = docLinkHtml;\n",
              "          element.appendChild(docLink);\n",
              "        }\n",
              "      </script>\n",
              "    </div>\n",
              "  </div>\n",
              "  "
            ]
          },
          "metadata": {},
          "execution_count": 7
        }
      ]
    },
    {
      "cell_type": "code",
      "source": [
        "data= data[\"Sentence\"]"
      ],
      "metadata": {
        "id": "ZrxCWyANOxAm"
      },
      "execution_count": 8,
      "outputs": []
    },
    {
      "cell_type": "code",
      "source": [
        "data.head()"
      ],
      "metadata": {
        "colab": {
          "base_uri": "https://localhost:8080/"
        },
        "id": "quvy_GXOO2Qn",
        "outputId": "e8917117-96e2-4de2-d79d-900b299ab21e"
      },
      "execution_count": 9,
      "outputs": [
        {
          "output_type": "execute_result",
          "data": {
            "text/plain": [
              "0    I am looking for a black gloss 33 inch firecla...\n",
              "1    Looking for pre workout Pump addict instead of...\n",
              "2    i need a 48 inch glass sliding goof and a show...\n",
              "3    Hello, do any of your free standing tubs have ...\n",
              "4    I'm looking for a 24 inch white mirror that is...\n",
              "Name: Sentence, dtype: object"
            ]
          },
          "metadata": {},
          "execution_count": 9
        }
      ]
    },
    {
      "cell_type": "code",
      "source": [
        "data.to_csv(r'/content/questions.txt', header=None, index=None, mode='a')"
      ],
      "metadata": {
        "id": "T7K-Xyu-O7Dz"
      },
      "execution_count": 10,
      "outputs": []
    },
    {
      "cell_type": "code",
      "source": [
        "file_name = 'questions.txt'"
      ],
      "metadata": {
        "id": "xv2TypCAL8HE"
      },
      "execution_count": 13,
      "outputs": []
    },
    {
      "cell_type": "markdown",
      "source": [
        "# New Section"
      ],
      "metadata": {
        "id": "jG6oNZNSMW2i"
      }
    },
    {
      "cell_type": "code",
      "source": [
        "gpt2.copy_file_from_gdrive(file_name)"
      ],
      "metadata": {
        "id": "_cNW6ECgL88b"
      },
      "execution_count": 15,
      "outputs": []
    },
    {
      "cell_type": "code",
      "source": [
        "sess = gpt2.start_tf_sess()\n",
        "\n",
        "gpt2.finetune(sess,\n",
        "              dataset=file_name,\n",
        "              model_name='124M',\n",
        "              steps=1000,\n",
        "              restore_from='fresh',\n",
        "              run_name='run1',\n",
        "              print_every=10,\n",
        "              sample_every=200,\n",
        "              save_every=500\n",
        "              )"
      ],
      "metadata": {
        "colab": {
          "base_uri": "https://localhost:8080/"
        },
        "id": "iAGCHckkQBQw",
        "outputId": "6fd3955c-30cd-4049-a39c-92171b4208a8"
      },
      "execution_count": 16,
      "outputs": [
        {
          "output_type": "stream",
          "name": "stdout",
          "text": [
            "Loading checkpoint models/124M/model.ckpt\n",
            "INFO:tensorflow:Restoring parameters from models/124M/model.ckpt\n",
            "Loading dataset...\n"
          ]
        },
        {
          "output_type": "stream",
          "name": "stderr",
          "text": [
            "100%|██████████| 1/1 [00:00<00:00, 305.37it/s]"
          ]
        },
        {
          "output_type": "stream",
          "name": "stdout",
          "text": [
            "dataset has 3093 tokens\n",
            "Training...\n"
          ]
        },
        {
          "output_type": "stream",
          "name": "stderr",
          "text": [
            "\n"
          ]
        },
        {
          "output_type": "stream",
          "name": "stdout",
          "text": [
            "[10 | 21.47] loss=2.23 avg=2.23\n",
            "[20 | 35.74] loss=1.05 avg=1.64\n",
            "[30 | 50.04] loss=0.43 avg=1.23\n",
            "[40 | 64.33] loss=0.10 avg=0.94\n",
            "[50 | 78.60] loss=0.04 avg=0.76\n",
            "[60 | 92.93] loss=0.02 avg=0.63\n",
            "[70 | 107.26] loss=0.02 avg=0.54\n",
            "[80 | 121.50] loss=0.02 avg=0.47\n",
            "[90 | 135.75] loss=0.02 avg=0.42\n",
            "[100 | 150.00] loss=0.02 avg=0.38\n",
            "[110 | 164.25] loss=0.01 avg=0.34\n",
            "[120 | 178.50] loss=0.02 avg=0.32\n",
            "[130 | 192.76] loss=0.02 avg=0.29\n",
            "[140 | 207.00] loss=0.01 avg=0.27\n",
            "[150 | 221.30] loss=0.01 avg=0.25\n",
            "[160 | 235.56] loss=0.02 avg=0.24\n",
            "[170 | 249.83] loss=0.01 avg=0.22\n",
            "[180 | 264.09] loss=0.02 avg=0.21\n",
            "[190 | 278.35] loss=0.01 avg=0.20\n",
            "[200 | 292.60] loss=0.01 avg=0.19\n",
            "======== SAMPLE 1 ========\n",
            "touchest place to buy a shower door set greater than 70 inches wide\n",
            "18 inch deep by 36 inches long brown freestanding vanity\n",
            "Looking for a 36 inch vanity with granite top\n",
            "I am looking for bathroom mirrors black framed in rectangular and oval\n",
            "looking at 36 inch medicine cabinet for $399 . is it recessed able to fit into wall as a flush mount?\n",
            "Vessel bag in goldish color\n",
            "Looking for protein powder no carb no suger\n",
            "\"I am brand new to fat burners, I want to know a good fat burner to see good results.\"\n",
            "i want protein without lactose\n",
            "I'm looking for whey proteine with not soy in it!\n",
            "\"Hi, I am looking for a whey protein with not soy, does it even exist?\"\n",
            "\"I'm looking for a supplement to help me get back into ketosis , but not a pill. Something I can mix in my water.\"\n",
            "Looking for a testosterone supplment and I have no idea which one to buy\n",
            "\"Hi, I would like to have a protein powder without caffeine\"\n",
            "i am looking for a very good fat burner thats not too heavy in stimulants.\n",
            "I saw a sweater block with multi colour yesterday. I wish to order and now can't find..\n",
            "I'm looking for a polo shirt with no logo on it.\n",
            "\"Hi looking for the toque and neck tube displayed in the woman's ski jacket the jacket color that is light blue and green , the tuque and neck tube is a dusty pink sort of color, I can't find it anywhere on sight i see simiar items but want a matching set\"\n",
            "\"I am looking for a bomber style jacket 2 XS no hoody , and black\"\n",
            "Women's pyjama pants without waistband\n",
            "Good morning I am looking for a puffer vest three-quarter length I've seen them On the website but no longer there\n",
            "\"Good morning, I would like to buy the product below, size M: How can I proceed with this purchase? It doesn't seem to be available at the moment\"\n",
            "Want to order Women's warm waterproof snow boots in size 8 . Doesn't say out of stock but can't put order in. Please advise.\n",
            "\"Hi, I'm interested in the women's waterproof mountain walking jacket in green but the website only gives the option for size XS and does not allow to request a notification\"\n",
            "\"Hi I'm looking to buy this but I cannot find an 22 mm nozzle pump anywhere, do you have one on your site or know where I can get one? Thanks\"\n",
            "Pool cue cases not pool cues\n",
            "Looking to buy hiking trousers but don't understand sizes. I am 38in waist and 29in leg. Looking to buy trekking trousers what size do I need\n",
            "is it possible to order a bathroom vanity without the countertop?\n",
            "I'm looking for a shower unit including walls bae and glass enclosure but the whole unit cannot be higher than 75 inches\n",
            "\"Hi i need a 10\"\" rough in toilet asap, i'm not sure if you have it in stock. I don't want the screw less\"\n",
            "Can the shower be sold without the walls?\n",
            "\"You don't sell any 72\"\" wide vanities?\"\n",
            "looking for shower system with tub faucet altough no tub\n",
            "\"Looking for a bathroom vanity & sink no more than 16\"\" deep\"\n",
            "\"looking for 48 inches floor cabinet single sink, but no couter top\"\n",
            "Can I purchase shower doors and not the entire shower kit?\n",
            "Medicine cabinets with no mirror\n",
            "\"I'm looking for a 55 inch vanity top, which is not a regular size. Is there a way to have this size?\"\n",
            "\"I need a 42\"\" kitchen island. Do you have any? I can't find them on the website.\"\n",
            "\"I am looking for a black glass shower tile. It does not need to be a solid black, can have accents of clear or silver glass tones\"\n",
            "Medicine cabinet with mirror and no lights\n",
            "\"We are looking for a 72 inch soaker tub, no jets.\"\n",
            "can I order just the top and not the cabinet?\n",
            "barbeque without charcoal\n",
            "\"Hi there, I'm interested in a vanity. Am I able to purchase without the sink top?\"\n",
            "Can I order this vessel sink without the attached faucet ?\n",
            "\"I'm looking for a 30\"\" cabinet with no top\"\n",
            "Looking for vanity but sink must have no holes. Faucet in on wall already\n",
            "\"Hi. I'm looking for 36\"\" vanity wall mounted black or white. With towel storage but no sinc\"\n",
            "I want just this cabinet without the top as i want top mounted basins on a surface matching my kitchen\n",
            "Looking for a pivot shower door in black to fit a 33 inch opening preferably but not necessarily.\n",
            "bathtub without faucet?\n",
            "\"Can you order the 59\"\" bathrub without the faucet?\"\n",
            "I want Grey\n",
            "\n",
            "[210 | 320.52] loss=0.01 avg=0.18\n",
            "[220 | 334.78] loss=0.01 avg=0.17\n",
            "[230 | 349.05] loss=0.01 avg=0.16\n",
            "[240 | 363.32] loss=0.01 avg=0.16\n",
            "[250 | 377.60] loss=0.01 avg=0.15\n",
            "[260 | 391.87] loss=0.01 avg=0.14\n",
            "[270 | 406.14] loss=0.01 avg=0.14\n",
            "[280 | 420.42] loss=0.01 avg=0.13\n",
            "[290 | 434.70] loss=0.01 avg=0.13\n",
            "[300 | 448.98] loss=0.01 avg=0.12\n",
            "[310 | 463.25] loss=0.01 avg=0.12\n",
            "[320 | 477.53] loss=0.01 avg=0.11\n",
            "[330 | 491.81] loss=0.01 avg=0.11\n",
            "[340 | 506.09] loss=0.01 avg=0.11\n",
            "[350 | 520.37] loss=0.01 avg=0.10\n",
            "[360 | 534.65] loss=0.01 avg=0.10\n",
            "[370 | 548.93] loss=0.01 avg=0.10\n",
            "[380 | 563.23] loss=0.01 avg=0.10\n",
            "[390 | 577.51] loss=0.01 avg=0.09\n",
            "[400 | 591.78] loss=0.01 avg=0.09\n",
            "======== SAMPLE 1 ========\n",
            " simple whites, or if there is no white, I need a shade of brown.\"\n",
            "\"Hi, I am looking for a 60 inch white bathtub that is freestanding and reasonably priced. I would like to have no more than 21\"\" height. Inflatable standup shower door is one length. How can I proceed with this renovation?\"\n",
            "\"I am looking for a left offset vanity with no backsplash piece.\"\n",
            "\"I am looking for a left offset vanity with no top and backsplash piece.\"\n",
            "\"I am looking for a round shower around 73 inches high which is a light blueish patterned after the skincare aisle of a store... or is it navy?\"\n",
            "\"I am looking for a brownish multi-purpose shower set with no more than a light blue or pinkish color, I can't find it anywhere on sight i see simiar items but want a matching set\"\n",
            "\"I am looking for a longitude and a doubleitude monitor pre-filled with clear YouTube video\"\n",
            "\"Looking for a hydration rack set with no more than 21\"\" depth\"\n",
            "\"I am looking for a left offset vanity with no more than a light blueish patterned after the skincave aisle of a store... or is it instead a navy mirror set with no more than a light blueish or pinkish color? I don't want either\"\n",
            "I am looking for a left offset vanity with no more than 21\"\" depth\"\n",
            "\"I am looking for a left tub/shower righthand and one lefthand, what are my options?\"\n",
            "I am looking for a right countertop 60\"\" wide by 42\"\" deep with a bathing well bottom length of 45 inches minimum\"\n",
            "I am looking for a vanity door about 45 inches minimum\n",
            "I am looking for a shower door about 37 inches minimum\n",
            "I am looking for a cubby wide by 36 inches long by 36 inches wide\n",
            "I am looking for a round shower around 87 inches high\n",
            "\"I'm looking to buy a 42\"\" gazebo with no more than 21\"\" depth\"\n",
            "\"Do you have shelves that mount to a wall, no screw 30 inches\"\n",
            "__brand__ bathtub 58 in. x 5 in. 4-Jet High Pressure Shower Panel System with Square Rain Shower Head and Tub Filler in Matte Black Model\n",
            "\"Yes, I bought a tub from you, I am looking for a adjustable screw that attaches to the plug.\"\n",
            "I'm looking for a 60 inch white bathtub that is freestanding and reasonably priced\n",
            "i'm looking for unflavored mass gainer protein\n",
            "Do you have a wall mount sink without a faucet hole\n",
            "Just shower base without walls\n",
            "\"I'm looking for a shower unit, 60\"\" wide by 42\"\" deep, with no seat and no top\"\n",
            "luggage without wheels\n",
            "I found a vanity top I love but it has only one hole for taps and that doesn't suit our needs\n",
            "curbless shower\n",
            "Walk in tubs for seniors\n",
            "I am looking for a shower door about 30 inches\n",
            "I need a toilet that is only 28 inches high\n",
            "\"Hi, I am looking for bathroom LED mirrors that are 24 inch. That are hard wired and can be turned on from the mirror\"\n",
            "Denim skirts?\n",
            "touch of linen buttoned skirt in patterned white colour\n",
            "Base cabinet 42 inches long\n",
            "Do you have the sweater in medium?\n",
            "Hi. Do you have sheer curtains which I can place on hooks instead of a rod\n",
            "Looking for Grey drapery panels 10 feet in length\n",
            "twik white sleeveless button closure top\n",
            "Do you have waterproof queen size mattress protectors for over 18 inch mattresses?\n",
            "Looking for Mercerized cotton high-performance T-shirt in size medium\n",
            "Are the round velvet floor cushions available in store?\n",
            "I would like the sweater as well as the icons pencil skirt in green\n",
            "Sleeveless sweater\n",
            "Unflavored unsweetened\n",
            "do you have the stainless steel shaker cups\n",
            "I am looking for flavor powders which I can use in yoghurts for example\n",
            "\"Hi, do you sell fingerless gloves please\"\n",
            "Need an inexpensive thermostatic shower set with an extra outlet for bidet. Can you suggest a couple.\n",
            "\"hi, can I put a tankless toilet into a 2\"\"x 4\"\" wall?\"\n",
            "\"I am looking for a left offset vanity set up to 48 inches wide, white, brushed nickel hardware\"\n",
            "seamless undermount\n",
            "Touchless kitchen faucet\n",
            "Looking for bowl with pattern LESS than 5 inches deep. Can be 7 inches wide\n",
            "Looking shower door frameless of 60 inch standing shower\n",
            "Do you sell beige toilets. Bone and buscuit are too light in colour\n",
            "We're looking for a shower door set greater than 70 inches wide\n",
            "18 inch deep by 36 inches long brown freestanding vanity\n",
            "Looking for a 36 inch vanity with granite top\n",
            "I am\n",
            "\n",
            "[410 | 618.21] loss=0.01 avg=0.09\n",
            "[420 | 632.48] loss=0.01 avg=0.09\n",
            "[430 | 646.76] loss=0.01 avg=0.08\n",
            "[440 | 661.04] loss=0.01 avg=0.08\n",
            "[450 | 675.32] loss=0.01 avg=0.08\n",
            "[460 | 689.59] loss=0.01 avg=0.08\n",
            "[470 | 703.87] loss=0.01 avg=0.08\n",
            "[480 | 718.14] loss=0.01 avg=0.07\n",
            "[490 | 732.42] loss=0.01 avg=0.07\n",
            "[500 | 746.70] loss=0.01 avg=0.07\n",
            "Saving checkpoint/run1/model-500\n",
            "[510 | 763.25] loss=0.01 avg=0.07\n",
            "[520 | 777.53] loss=0.01 avg=0.07\n",
            "[530 | 791.81] loss=0.01 avg=0.07\n",
            "[540 | 806.09] loss=0.01 avg=0.06\n",
            "[550 | 820.36] loss=0.01 avg=0.06\n",
            "[560 | 834.64] loss=0.01 avg=0.06\n",
            "[570 | 848.92] loss=0.01 avg=0.06\n",
            "[580 | 863.19] loss=0.01 avg=0.06\n",
            "[590 | 877.47] loss=0.01 avg=0.06\n",
            "[600 | 891.74] loss=0.01 avg=0.06\n",
            "======== SAMPLE 1 ========\n",
            " more. Thanks.\"\n",
            "Long Sherpa jacket dark brown why can't I find it?\n",
            "Hello. I'm looking for a soft Open face cardigan w no buttons.\n",
            "hi do you carry any oval tubs in a matte white finish or not too much of gloss? i know they make solid surface but higher prices. thank you\n",
            "Do you not have alcove shower walls?\n",
            "Hi I'm considering a bathtub swivel panel. I assume it doesn't matter which way the bathtub is facing?\n",
            "looking for a alcove shower base . not so much $ lol\n",
            "Do you have a vanity tops or wall mount sink without faucet holes?\n",
            "\"Hi!! I'm looking for a 60\"\" wide tub but a soaker type thats deeper than a regular tub do you have this type? I don't see anything deep enough on your site\"\n",
            "\"Ok thanks. I'm looking for a pure white alcove bathtub, not American standard or any off whites. Is there one you could recommend\"\n",
            "\"Hi, Do you have a navy mirror size 60x31. You have it for the gold and black but i don't want it for the navy.\"\n",
            "\"Hi, I am looking for a floating vanity with integrated sink & counter top with no drill holes for the faucet as our faucets are wall mounted. Do you sell theM\"\n",
            "I am looking for soaker tub but do not want stand alone. I am replacing my oval jacuzzi\n",
            "Where is the mirror on here. I don't want linen cabinet\n",
            "\"Hello, I need a standup shower door only, no side panels. 41 inches wide\"\n",
            "I'm looking for a double sink kitchen close to 52 inches no bigger with countertop\n",
            "\"I'm looking for bypass shower doors in chrome with clear glass. The opening would be for a 59\"\" width and the height I'm looking for is 76\"\". I don't want any rubber seals around the glass doors.\"\n",
            "\"I am looking at the 34\"\"x34\"\" shower kit with door, walls, base and glass shelves.\"\n",
            "\"Can the 2\"\" backsplash, on the 60\"\" single sink countertop, be removed? Or is the counter and backsplash one piece? If so, do you have a single sink, white 60\"\" vanity with no backsplash piece?\"\n",
            "\"We're looking for a 60 inch left drain alcove tub which is a soaker tub with no more than 15\"\" height. In white.\"\n",
            "just need glass doors no end glass\n",
            "Do you have Chrome column-style showerhead with body jets and rain showerhead\n",
            "i live in __location__ and i am looking for an acrylic ( preference ) or fibreglass shower base. I need a 50 inch wide by 34 inch deep with a 5 inch single threshold\n",
            "\"Looking for a tub/shower righthand and one lefthand, what are my options?\"\n",
            "I am looking for a freestanding tub with a bathing well bottom length of 45 inches minimum\n",
            "I'm looking for a round shower around 73 inches high\n",
            "\"I'm looking to buy a 42\"\" gazebo with no more than 21\"\" depth\"\n",
            "\"Do you have shelves that mount to a wall, no screw 30 inches\"\n",
            "__brand__ bathtub 58 in. x 5 in. 4-Jet High Pressure Shower Panel System with Square Rain Shower Head and Tub Filler in Matte Black Model\n",
            "\"Yes, I bought a tub from you, I am looking for a adjustable screw that attaches to the plug.\"\n",
            "I'm looking for a 60 inch white bathtub that is freestanding and reasonably priced\n",
            "i'm looking for unflavored mass gainer protein\n",
            "Do you have a wall mount sink without a faucet hole\n",
            "Just shower base without walls\n",
            "\"I'm looking for a shower unit, 60\"\" wide by 42\"\" deep, with no seat and no top\"\n",
            "luggage without wheels\n",
            "I found a vanity top I love but it has only one hole for taps and that doesn't suit our needs\n",
            "curbless shower\n",
            "Walk in tubs for seniors\n",
            "I am looking for a shower door about 30 inches\n",
            "I need a toilet that is only 28 inches high\n",
            "\"Hi, I am looking for bathroom LED mirrors that are 24 inch. That are hard wired and can be turned on from the mirror\"\n",
            "Denim skirts?\n",
            "touch of linen buttoned skirt in patterned white colour\n",
            "Base cabinet 42 inches long\n",
            "Do you have the sweater in medium?\n",
            "Hi. Do you have sheer curtains which I can place on hooks instead of a rod\n",
            "Looking for Grey drapery panels 10 feet in length\n",
            "twik white sleeveless button closure top\n",
            "Do you have waterproof queen size mattress protectors for over 18 inch mattresses?\n",
            "Looking for Mercerized cotton high-performance T-shirt in size medium\n",
            "Are the round velvet floor cushions available in store?\n",
            "I\n",
            "\n",
            "[610 | 918.01] loss=0.01 avg=0.06\n",
            "[620 | 932.28] loss=0.01 avg=0.05\n",
            "[630 | 946.56] loss=0.00 avg=0.05\n",
            "[640 | 960.84] loss=0.01 avg=0.05\n",
            "[650 | 975.11] loss=0.01 avg=0.05\n",
            "[660 | 989.38] loss=0.01 avg=0.05\n",
            "[670 | 1003.64] loss=0.01 avg=0.05\n",
            "[680 | 1017.91] loss=0.01 avg=0.05\n",
            "[690 | 1032.18] loss=0.01 avg=0.05\n",
            "[700 | 1046.46] loss=0.01 avg=0.05\n",
            "[710 | 1060.73] loss=0.01 avg=0.05\n",
            "[720 | 1075.00] loss=0.01 avg=0.05\n",
            "[730 | 1089.27] loss=0.01 avg=0.05\n",
            "[740 | 1103.54] loss=0.01 avg=0.04\n",
            "[750 | 1117.81] loss=0.00 avg=0.04\n",
            "[760 | 1132.08] loss=0.01 avg=0.04\n",
            "[770 | 1146.35] loss=0.01 avg=0.04\n",
            "[780 | 1160.62] loss=0.01 avg=0.04\n",
            "[790 | 1174.89] loss=0.00 avg=0.04\n",
            "[800 | 1189.17] loss=0.01 avg=0.04\n",
            "======== SAMPLE 1 ========\n",
            " the\n",
            "\"I'm looking for a very good fat burner thats not too heavy in stimulants.\"\n",
            "i want a fat burner thats not too heavy in stimulants\n",
            "I saw a sweater block with multi colour yesterday. I wish to order and now can't find..\n",
            "I'm looking for a polo shirt with no logo on it.\n",
            "\"Hi looking for the toque and neck tube displayed in the woman's ski jacket the jacket color that is light blue and green , the tuque and neck tube is a dusty pink sort of color, I can't find it anywhere on sight i see simiar items but want a matching set\"\n",
            "\"I am looking for a bomber style jacket 2 XS no hoody , and black\"\n",
            "Women's pyjama pants without waistband\n",
            "Good morning I am looking for a puffer vest three-quarter length I've seen them On the website but no longer there\n",
            "\"Good morning, I would like to buy the product below, size M: How can I proceed with this purchase? It doesn't seem to be available at the moment\"\n",
            "Want to order Women's warm waterproof snow boots in size 8 . Doesn't say out of stock but can't put order in. Please advise.\n",
            "\"Hi, I'm interested in the women's waterproof mountain walking jacket in green but the website only gives the option for size XS and does not allow to request a notification\"\n",
            "\"Hi I'm looking to buy this but I cannot find an 22 mm nozzle pump anywhere, do you have one on your site or know where I can get one? Thanks\"\n",
            "Pool cue cases not pool cues\n",
            "Looking to buy hiking trousers but don't understand sizes. I am 38in waist and 29in leg. Looking to buy trekking trousers what size do I need\n",
            "is it possible to order a bathroom vanity without the countertop?\n",
            "I'm looking for a shower unit including walls bae and glass enclosure but the whole unit cannot be higher than 75 inches\n",
            "\"Hi i need a 10\"\" rough in toilet asap, i'm not sure if you have it in stock. I don't want the screw less\"\n",
            "Can the shower be sold without the walls?\n",
            "\"You don't sell any 72\"\" wide vanities?\"\n",
            "looking for shower system with tub faucet altough no tub\n",
            "\"Looking for a bathroom vanity & sink no more than 16\"\" deep\"\n",
            "\"looking for 48 inches floor cabinet single sink, but no couter top\"\n",
            "Can I purchase shower doors and not the entire shower kit?\n",
            "Medicine cabinets with no mirror\n",
            "\"I'm looking for a 55 inch vanity top, which is not a regular size. Is there a way to have this size?\"\n",
            "\"I need a 42\"\" kitchen island. Do you have any? I can't find them on the website.\"\n",
            "\"I am looking for a black glass shower tile. It does not need to be a solid black, can have accents of clear or silver glass tones\"\n",
            "Medicine cabinet with mirror and no lights\n",
            "\"We are looking for a 72 inch soaker tub, no jets.\"\n",
            "can I order just the top and not the cabinet?\n",
            "barbeque without charcoal\n",
            "\"Hi there, I'm interested in a vanity. Am I able to purchase without the sink top?\"\n",
            "Can I order this vessel sink without the attached faucet ?\n",
            "\"I'm looking for a 30\"\" cabinet with no top\"\n",
            "Looking for vanity but sink must have no holes. Faucet in on wall already\n",
            "\"Hi. I'm looking for 36\"\" vanity wall mounted black or white. With towel storage but no sinc\"\n",
            "I want just this cabinet without the top as i want top mounted basins on a surface matching my kitchen\n",
            "Looking for a pivot shower door in black to fit a 33 inch opening preferably but not necessarily.\n",
            "bathtub without faucet?\n",
            "\"Can you order the 59\"\" bathrub without the faucet?\"\n",
            "I want Grey toilet not assessceries\n",
            "\"I cannot seem to sort by colour. I am looking for a cream 38\"\" corner shower stall\"\n",
            "do you have 60 Inch kitchen island with quartz top with no seatings\n",
            "\"Frameless beveled mirror no more than 29\"\"x29\"\"\"\n",
            "Bath tub without texture\n",
            "Looking for a bathroom cabinet without top 60 inches\n",
            "Looking for a medicine cabinet with mirror front not Recessed that would fit 50 inch wide 39 inch tall the best\n",
            "\"I need a 60\"\" vanity with a sink that's offset to the right - not centred\"\n",
            "I am looking for a 37 inch bathroom cabinet without a top or sink because I have one. Do you have anything in stock?\n",
            "I'm looking for a mirror without a fram 40 inches x 60 inches\n",
            "I am looking for a kitchen faucet in Stainless Steel. Do you have in stock na did not what would be turn around time and pricing. Thanks\n",
            "\"Hi looking for a 24 inch vanity top and sink\n",
            "\n",
            "[810 | 1215.56] loss=0.01 avg=0.04\n",
            "[820 | 1229.83] loss=0.01 avg=0.04\n",
            "[830 | 1244.10] loss=0.01 avg=0.04\n",
            "[840 | 1258.37] loss=0.01 avg=0.04\n",
            "[850 | 1272.65] loss=0.00 avg=0.04\n",
            "[860 | 1286.92] loss=0.01 avg=0.04\n",
            "[870 | 1301.19] loss=0.01 avg=0.04\n",
            "[880 | 1315.46] loss=0.01 avg=0.04\n",
            "[890 | 1329.72] loss=0.01 avg=0.04\n",
            "[900 | 1343.99] loss=0.01 avg=0.04\n",
            "[910 | 1358.26] loss=0.00 avg=0.03\n",
            "[920 | 1372.53] loss=0.00 avg=0.03\n",
            "[930 | 1386.80] loss=0.01 avg=0.03\n",
            "[940 | 1401.07] loss=0.01 avg=0.03\n",
            "[950 | 1415.34] loss=0.01 avg=0.03\n",
            "[960 | 1429.61] loss=0.01 avg=0.03\n",
            "[970 | 1443.88] loss=0.01 avg=0.03\n",
            "[980 | 1458.15] loss=0.01 avg=0.03\n",
            "[990 | 1472.42] loss=0.01 avg=0.03\n",
            "[1000 | 1486.70] loss=0.01 avg=0.03\n",
            "Saving checkpoint/run1/model-1000\n",
            "WARNING:tensorflow:From /usr/local/lib/python3.7/dist-packages/tensorflow/python/training/saver.py:1054: remove_checkpoint (from tensorflow.python.training.checkpoint_management) is deprecated and will be removed in a future version.\n",
            "Instructions for updating:\n",
            "Use standard file APIs to delete files with this prefix.\n"
          ]
        }
      ]
    },
    {
      "cell_type": "code",
      "source": [
        "gpt2.copy_checkpoint_to_gdrive(run_name='run1')"
      ],
      "metadata": {
        "id": "pzc2fazBQIBF"
      },
      "execution_count": 17,
      "outputs": []
    },
    {
      "cell_type": "code",
      "source": [
        "gpt2.copy_checkpoint_from_gdrive(run_name='run1')"
      ],
      "metadata": {
        "id": "psiP4vsCQPCx"
      },
      "execution_count": 18,
      "outputs": []
    },
    {
      "cell_type": "code",
      "source": [
        "sess = gpt2.start_tf_sess()\n",
        "gpt2.load_gpt2(sess, run_name='run1')"
      ],
      "metadata": {
        "colab": {
          "base_uri": "https://localhost:8080/"
        },
        "id": "0eytjfhIQQJI",
        "outputId": "59d47561-b59f-4432-9e1e-874cdcc09c6a"
      },
      "execution_count": 3,
      "outputs": [
        {
          "output_type": "stream",
          "name": "stdout",
          "text": [
            "Loading checkpoint checkpoint/run1/model-1000\n",
            "INFO:tensorflow:Restoring parameters from checkpoint/run1/model-1000\n"
          ]
        }
      ]
    },
    {
      "cell_type": "code",
      "source": [
        "gpt2.generate(sess, run_name='run1')"
      ],
      "metadata": {
        "colab": {
          "base_uri": "https://localhost:8080/"
        },
        "id": "qW7Ua9UTQT9W",
        "outputId": "44c0c077-af89-49af-d849-91c053ccd337"
      },
      "execution_count": 4,
      "outputs": [
        {
          "output_type": "stream",
          "name": "stdout",
          "text": [
            "\"Hello, I need a standup shower door only, no side panels. 41 inches wide\"\n",
            "I'm looking for a double sink kitchen close to 52 inches no bigger with countertop\n",
            "\"I'm looking for bypass shower doors in chrome with clear glass. The opening would be for a 59\"\" width and the height I'm looking for is 76\"\". I don't want any rubber seals around the glass doors.\"\n",
            "\"I am looking at the 34\"\"x34\"\" shower kit with door, walls, base and glass shelves.\"\n",
            "\"Can the 2\"\" backsplash, on the 60\"\" single sink countertop, be removed? Or is the counter and backsplash one piece? If so, do you have a single sink, white 60\"\" vanity with no backsplash piece?\"\n",
            "\"We're looking for a 60 inch left drain alcove tub which is a soaker tub with no more than 15\"\" height. In white.\"\n",
            "just need glass doors no end glass\n",
            "Do you have Chrome column-style showerhead with body jets and rain showerhead\n",
            "i live in __location__ and i am looking for an acrylic ( preference ) or fibreglass shower base. I need a 50 inch wide by 34 inch deep with a 5 inch single threshold\n",
            "\"Looking for a tub/shower righthand and one lefthand, what are my options?\"\n",
            "I am looking for a freestanding tub with a bathing well bottom length of 45 inches minimum\n",
            "I'm looking for a round shower around 73 inches high\n",
            "\"I'm looking to buy a 42\"\" gazebo with no more than 21\"\" depth\"\n",
            "\"Do you have shelves that mount to a wall, no screw 30 inches\"\n",
            "__brand__ bathtub 58 in. x 5 in. 4-Jet High Pressure Shower Panel System with Square Rain Shower Head and Tub Filler in Matte Black Model\n",
            "\"Yes, I bought a tub from you, I am looking for a adjustable screw that attaches to the plug.\"\n",
            "I'm looking for a 60 inch white bathtub that is freestanding and reasonably priced\n",
            "i'm looking for unflavored mass gainer protein\n",
            "Do you have a wall mount sink without a faucet hole\n",
            "Just shower base without walls\n",
            "\"I'm looking for a shower unit, 60\"\" wide by 42\"\" deep, with no seat and no top\"\n",
            "luggage without wheels\n",
            "I found a vanity top I love but it has only one hole for taps and that doesn't suit our needs\n",
            "curbless shower\n",
            "Walk in tubs for seniors\n",
            "I am looking for a shower door about 30 inches\n",
            "I need a toilet that is only 28 inches high\n",
            "\"Hi, I am looking for bathroom LED mirrors that are 24 inch. That are hard wired and can be turned on from the mirror\"\n",
            "Denim skirts?\n",
            "touch of linen buttoned skirt in patterned white colour\n",
            "Base cabinet 42 inches long\n",
            "Do you have the sweater in medium?\n",
            "Hi. Do you have sheer curtains which I can place on hooks instead of a rod\n",
            "Looking for Grey drapery panels 10 feet in length\n",
            "twik white sleeveless button closure top\n",
            "Do you have waterproof queen size mattress protectors for over 18 inch mattresses?\n",
            "Looking for Mercerized cotton high-performance T-shirt in size medium\n",
            "Are the round velvet floor cushions available in store?\n",
            "I would like the sweater as well as the icons pencil skirt in green\n",
            "Sleeveless sweater\n",
            "Unflavored unsweetened\n",
            "do you have the stainless steel shaker cups\n",
            "I am looking for flavor powders which I can use in yoghurts for example\n",
            "\"Hi, do you sell fingerless gloves please\"\n",
            "Need an inexpensive thermostatic shower set with an extra outlet for bidet. Can you suggest a couple.\n",
            "\"hi, can I put a tankless toilet into a 2\"\"x 4\"\" wall?\"\n",
            "\"I am looking for a left offset vanity set up to 48 inches wide, white, brushed nickel hardware\"\n",
            "seamless undermount\n",
            "Touchless kitchen faucet\n",
            "Looking for bowl with pattern LESS than 5 inches deep. Can be 7 inches wide\n",
            "Looking shower door frameless of 60 inch standing shower\n",
            "Do you sell beige toilets. Bone and buscuit are too light in colour\n",
            "We're looking for a shower door set greater than 70 inches wide\n",
            "18 inch deep by 36 inches long brown freestanding vanity\n",
            "Looking for a 36 inch vanity with granite top\n",
            "I am looking for bathroom mirrors black framed in rectangular and oval\n",
            "looking at 36 inch medicine cabinet for $399 . is it recessed able to fit into wall as a flush mount?\n",
            "Vessel bag in goldish color\n",
            "Looking for protein powder no carb no suger\n",
            "\"I am brand new to fat burners, I want to know a good fat burner to see good results.\"\n",
            "i want protein without lactose\n",
            "I'm looking for whey\n"
          ]
        }
      ]
    }
  ]
}